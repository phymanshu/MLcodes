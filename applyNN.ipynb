{
 "cells": [
  {
   "cell_type": "code",
   "execution_count": 1,
   "id": "61974b28",
   "metadata": {},
   "outputs": [
    {
     "name": "stderr",
     "output_type": "stream",
     "text": [
      "/cvmfs/sft.cern.ch/lcg/views/LCG_103swan/x86_64-centos7-gcc11-opt/lib/python3.9/site-packages/uproot3/__init__.py:127: FutureWarning: Consider switching from 'uproot3' to 'uproot', since the new interface became the default in 2020.\n",
      "\n",
      "    pip install -U uproot\n",
      "\n",
      "In Python:\n",
      "\n",
      "    >>> import uproot\n",
      "    >>> with uproot.open(...) as file:\n",
      "    ...\n",
      "\n",
      "  warnings.warn(\n",
      "/cvmfs/sft.cern.ch/lcg/views/LCG_103swan/x86_64-centos7-gcc11-opt/lib/python3.9/site-packages/awkward0/__init__.py:12: FutureWarning: Consider switching from 'awkward0' to 'awkward', since the new interface became the default in 2020.\n",
      "\n",
      "    pip install -U awkward\n",
      "\n",
      "In Python:\n",
      "\n",
      "    >>> import awkward as ak\n",
      "    >>> new_style_array = ak.from_awkward0(old_style_array)\n",
      "    >>> old_style_array = ak.to_awkward0(new_style_array)\n",
      "\n",
      "  warnings.warn(\n"
     ]
    }
   ],
   "source": [
    "### standard sci-py libraries\n",
    "import numpy as np\n",
    "import matplotlib.pyplot as plt\n",
    "import pandas as pd\n",
    "import uproot3 as uproot ### to read, convert, inspect ROOT TTrees\n",
    "import matplotlib as mpl\n",
    "\n",
    "from hipe4ml.model_handler import ModelHandler\n",
    "from hipe4ml.tree_handler import TreeHandler\n",
    "from hipe4ml import analysis_utils\n",
    "from hipe4ml import plot_utils\n",
    "\n",
    "import matplotlib.ticker as mtick # for 1e10 format on Axis\n",
    "import pickle\n"
   ]
  },
  {
   "cell_type": "code",
   "execution_count": 11,
   "id": "3040140d",
   "metadata": {
    "scrolled": false
   },
   "outputs": [],
   "source": [
    "# Loading the datasets\n",
    "\n",
    "# inputFile='/eos/user/h/hsharma/HyperLoop_Output_Run3/DATA_train_Lc_112997/LcData_df_0_80_new.root'; outputFile='/eos/user/h/hsharma/ML/MLoutput/LcTree_NN_1_pt_110.root'\n",
    "# inputFile='/eos/user/h/hsharma/HyperLoop_Output_Run3/DATA_train_Lc_112997/LcData_df_81_160_new.root'; outputFile='/eos/user/h/hsharma/ML/MLoutput/LcTree_NN_2_pt_110.root'\n",
    "inputFile='/eos/user/h/hsharma/HyperLoop_Output_Run3/DATA_train_Lc_112997/LcData_df_161_233_new.root'; outputFile='/eos/user/h/hsharma/ML/MLoutput/LcTree_NN_3_pt_110.root'\n",
    "\n",
    "hdl_data=TreeHandler(inputFile, \"LcData\")\n",
    "\n",
    "# removing extra tails which are far from signal region\n",
    "\n",
    "hdl_data.apply_preselections(\"fM > 2.2 and fM < 2.4\", inplace=True)"
   ]
  },
  {
   "cell_type": "code",
   "execution_count": 12,
   "id": "ee65450a",
   "metadata": {},
   "outputs": [
    {
     "name": "stdout",
     "output_type": "stream",
     "text": [
      "Size of samples for training \n",
      "Data =  1259802\n"
     ]
    }
   ],
   "source": [
    "# Using Tight selection for data\n",
    "\n",
    "tpcSigKa_min = -3\n",
    "tpcSigKa_max = 3\n",
    "\n",
    "pt_min = 1\n",
    "pt_max = 10\n",
    "\n",
    "## Selections from Cut based analysis \n",
    "cpa_min=0.95\n",
    "cpa_max=1.0\n",
    "\n",
    "DL_min=0.02\n",
    "\n",
    "cutList=[\n",
    "    f'fNSigTpcKa1 > {tpcSigKa_min}',\n",
    "    f'fNSigTpcKa1 < {tpcSigKa_max}',\n",
    "    f'fPt > {pt_min}',\n",
    "    f'fPt < {pt_max}',\n",
    "    f'fCpa > {cpa_min}',    \n",
    "    f'fCpa < {cpa_max}',\n",
    "    f'fDecayLength > {DL_min}'\n",
    "]\n",
    "\n",
    "allCuts = ' & '.join(cutList)\n",
    "allCuts = f' {allCuts} '  # Add spaces around the string\n",
    "\n",
    "# Applying the same Tight selection criteira for data and MC\n",
    "hdl_data.apply_preselections(allCuts, inplace=True)\n",
    "\n",
    "# plot_utils.plot_distr([hdl_mc, hdl_data], cols_to_be_compared, \n",
    "#                       bins=30, labels=['MC', 'Data'],\n",
    "#                       log=1, density=1, figsize=(20, 20), alpha=0.3, grid=False);\n",
    "print('Size of samples for training \\nData = ',len(hdl_data))\n",
    "\n",
    "hdl_data_application = hdl_data\n"
   ]
  },
  {
   "cell_type": "code",
   "execution_count": 13,
   "id": "2f6e9616",
   "metadata": {},
   "outputs": [],
   "source": [
    "\n",
    "model = pickle.load(open('savedModels/savedNN.model', 'rb'))\n",
    "\n",
    "hdl_data_application.apply_model_handler(model,output_margin=False)\n",
    "\n",
    "output_df=hdl_data_application.get_data_frame()\n",
    "\n",
    "# ML tree name\n",
    "output_file = uproot.recreate(outputFile)\n",
    "\n"
   ]
  },
  {
   "cell_type": "code",
   "execution_count": 14,
   "id": "4edde84a",
   "metadata": {},
   "outputs": [
    {
     "name": "stdout",
     "output_type": "stream",
     "text": [
      "After applying selection, total candidates:  1259802\n"
     ]
    }
   ],
   "source": [
    "# Cut selections before saving dataframe to ML trees\n",
    "\n",
    "massMin=2.2\n",
    "massMax=2.4\n",
    "\n",
    "ptMin=0\n",
    "ptMax=100\n",
    "\n",
    "ptProng0Min=0\n",
    "ptProng0Max=100\n",
    "\n",
    "ptProng1Min=0\n",
    "ptProng1Max=100\n",
    "\n",
    "ptProng2Min=0\n",
    "ptProng2Max=100\n",
    "\n",
    "cpaMin=0.8\n",
    "cpaMax=1\n",
    "\n",
    "\n",
    "cutList=[\n",
    "    'fM > @massMin',\n",
    "    'fM < @massMax',\n",
    "    'fPt > @ptMin',\n",
    "    'fPt < @ptMax',\n",
    "    'fPtProng0 > @ptProng0Min',\n",
    "    'fPtProng0 < @ptProng0Max',\n",
    "    'fPtProng1 > @ptProng1Min',\n",
    "    'fPtProng1 < @ptProng1Max',\n",
    "    'fPtProng2 > @ptProng2Min',\n",
    "    'fPtProng2 < @ptProng2Max',\n",
    "    'fCpa > @cpaMin',\n",
    "    'fCpa < @cpaMax'\n",
    "]\n",
    "\n",
    "allCuts = ' & '.join(cutList)\n",
    "allCuts = f' {allCuts} '  # Add spaces around the string\n",
    "allCuts\n",
    "\n",
    "dfAfterSelection = output_df.query(allCuts)\n",
    "print('After applying selection, total candidates: ',dfAfterSelection.shape[0])\n",
    "\n",
    "\n",
    "# pandas dataframe with the branches to be saved \n",
    "dfToSave=dfAfterSelection[['fM','fPt','model_output']]\n",
    "\n",
    "# setting branch datatype\n",
    "branch_dtype = {\n",
    "    # Xic observables\n",
    "    'fM': np.float64,\n",
    "    'fPt': np.float64,\n",
    "    'model_output': np.float64\n",
    "}\n",
    "\n",
    "# convert DF to Dict\n",
    "branch_data = dfToSave.to_dict(orient='list')\n",
    "\n",
    "# Create new tree with branches\n",
    "output_file['NNoutput'] = uproot.newtree(branch_dtype)\n",
    "output_file['NNoutput'].extend(branch_data)\n",
    "output_file.close()"
   ]
  }
 ],
 "metadata": {
  "@webio": {
   "lastCommId": null,
   "lastKernelId": null
  },
  "kernelspec": {
   "display_name": "Python 3",
   "language": "python",
   "name": "python3"
  },
  "language_info": {
   "codemirror_mode": {
    "name": "ipython",
    "version": 3
   },
   "file_extension": ".py",
   "mimetype": "text/x-python",
   "name": "python",
   "nbconvert_exporter": "python",
   "pygments_lexer": "ipython3",
   "version": "3.9.12"
  }
 },
 "nbformat": 4,
 "nbformat_minor": 5
}
