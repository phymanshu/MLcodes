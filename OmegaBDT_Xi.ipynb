{
 "cells": [
  {
   "cell_type": "markdown",
   "id": "e6260cf0",
   "metadata": {},
   "source": [
    "# **BDTs at work: the $\\Omega$ analysis**\n",
    "\n",
    "The goal of this tutorial is to provide an example of binary classification with machine learning techniques applied to an ALICE analysis. This tutorial is based on the measurement of the invariant mass of the $\\mathrm{\\Omega}$ , through its cascade decay channel $\\mathrm{\\Omega^-} \\rightarrow \\mathrm{\\Lambda} + K^- \\rightarrow p + \\pi^- + K^-$. We will need two samples: \n",
    "- Real data: Pb--Pb collisions at $s_{\\sqrt{NN}} = 5.02$ TeV (LHC18qr, subsample)\n",
    "- Anchored MC production: LHC21l5\n",
    "\n",
    "At the end of the tutorial we will be able to see the peak of the $\\mathrm{\\Omega}$ !\n"
   ]
  },
  {
   "cell_type": "markdown",
   "id": "8f35bcb5",
   "metadata": {},
   "source": [
    "<img src=\"img/omega_dec.png\" \n",
    "     align=\"center\" \n",
    "     width=\"500\" />"
   ]
  },
  {
   "cell_type": "markdown",
   "id": "0bb651de",
   "metadata": {},
   "source": [
    "#### First, we need some libraries ###"
   ]
  },
  {
   "cell_type": "code",
   "execution_count": 1,
   "id": "61974b28",
   "metadata": {},
   "outputs": [],
   "source": [
    "### standard sci-py libraries\n",
    "import numpy as np\n",
    "import matplotlib.pyplot as plt\n",
    "import pandas as pd\n",
    "\n",
    "import uproot ### to read, convert, inspect ROOT TTrees\n"
   ]
  },
  {
   "cell_type": "markdown",
   "id": "dd7657f9",
   "metadata": {},
   "source": [
    "One tip before starting: to access the documentation associated to each function we are going to call just type Shift+Tab after the first parenthesis of the function"
   ]
  },
  {
   "cell_type": "markdown",
   "id": "5ec88a72",
   "metadata": {},
   "source": [
    "## Reading trees with uproot, handling them with pandas"
   ]
  },
  {
   "cell_type": "markdown",
   "id": "4090cdb0",
   "metadata": {},
   "source": [
    "Uproot (https://github.com/scikit-hep/uproot4) is a Python package that provides tools for reading/writing ROOT files using Python and Numpy (does not depend on ROOT) and is primarly intended to stream data into machine learning libraries in Python."
   ]
  },
  {
   "cell_type": "code",
   "execution_count": 2,
   "id": "cf8f4fa1",
   "metadata": {},
   "outputs": [],
   "source": [
    "## first we have to download the trees\n",
    "\n",
    "# !curl -L https://cernbox.cern.ch/s/V05rgkoJfGe8x7K/download --output AnalysisResults-mc_reduced.root\n",
    "# !curl -L https://cernbox.cern.ch/s/ReP4m9tDJ6UfivD/download --output AnalysisResults_reduced.root"
   ]
  },
  {
   "cell_type": "code",
   "execution_count": 3,
   "id": "6d4b8dfa",
   "metadata": {},
   "outputs": [],
   "source": [
    "mc_file = uproot.open(\"AnalysisResults-mc_reduced.root\")"
   ]
  },
  {
   "cell_type": "code",
   "execution_count": 4,
   "id": "a309d9cf",
   "metadata": {},
   "outputs": [
    {
     "data": {
      "text/plain": [
       "['XiOmegaTree;10']"
      ]
     },
     "execution_count": 4,
     "metadata": {},
     "output_type": "execute_result"
    }
   ],
   "source": [
    "mc_file.keys()"
   ]
  },
  {
   "cell_type": "code",
   "execution_count": 5,
   "id": "5e77483d",
   "metadata": {},
   "outputs": [
    {
     "data": {
      "text/plain": [
       "['MiniCascadeMC',\n",
       " 'MiniCascadeMC/MiniCascade',\n",
       " 'MiniCascadeMC/MiniCascade/pt',\n",
       " 'MiniCascadeMC/MiniCascade/eta',\n",
       " 'MiniCascadeMC/MiniCascade/mass',\n",
       " 'MiniCascadeMC/MiniCascade/ct',\n",
       " 'MiniCascadeMC/MiniCascade/radius',\n",
       " 'MiniCascadeMC/MiniCascade/radiusV0',\n",
       " 'MiniCascadeMC/MiniCascade/dcaBachPV',\n",
       " 'MiniCascadeMC/MiniCascade/dcaV0PV',\n",
       " 'MiniCascadeMC/MiniCascade/dcaV0piPV',\n",
       " 'MiniCascadeMC/MiniCascade/dcaV0prPV',\n",
       " 'MiniCascadeMC/MiniCascade/dcaV0tracks',\n",
       " 'MiniCascadeMC/MiniCascade/dcaBachV0',\n",
       " 'MiniCascadeMC/MiniCascade/cosPA',\n",
       " 'MiniCascadeMC/MiniCascade/cosPAV0',\n",
       " 'MiniCascadeMC/MiniCascade/V0invMassDelta',\n",
       " 'MiniCascadeMC/MiniCascade/tpcNsigmaBach',\n",
       " 'MiniCascadeMC/MiniCascade/tpcNsigmaV0Pr',\n",
       " 'MiniCascadeMC/MiniCascade/tpcNsigmaV0Pi',\n",
       " 'MiniCascadeMC/MiniCascade/competingMass',\n",
       " 'MiniCascadeMC/MiniCascade/bachBarCosPA',\n",
       " 'MiniCascadeMC/MiniCascade/tpcClBach',\n",
       " 'MiniCascadeMC/MiniCascade/tpcClV0Pr',\n",
       " 'MiniCascadeMC/MiniCascade/tpcClV0Pi',\n",
       " 'MiniCascadeMC/MiniCascade/centrality',\n",
       " 'MiniCascadeMC/MiniCascade/matter',\n",
       " 'MiniCascadeMC/MiniCascade/hasTOFhit',\n",
       " 'MiniCascadeMC/MiniCascade/hasITSrefit',\n",
       " 'MiniCascadeMC/MiniCascade/isOmega',\n",
       " 'MiniCascadeMC/ptMC',\n",
       " 'MiniCascadeMC/etaMC',\n",
       " 'MiniCascadeMC/ctMC',\n",
       " 'MiniCascadeMC/yMC',\n",
       " 'MiniCascadeMC/pdg',\n",
       " 'MiniCascadeMC/isReconstructed',\n",
       " 'MiniCascadeMC/flag',\n",
       " 'index']"
      ]
     },
     "execution_count": 5,
     "metadata": {},
     "output_type": "execute_result"
    }
   ],
   "source": [
    "mc_file[\"XiOmegaTree\"].keys()"
   ]
  },
  {
   "cell_type": "code",
   "execution_count": 6,
   "id": "633858e6",
   "metadata": {},
   "outputs": [],
   "source": [
    "## convert the tree into a dictionary of numpy arrays"
   ]
  },
  {
   "cell_type": "code",
   "execution_count": 7,
   "id": "df46a49b",
   "metadata": {},
   "outputs": [],
   "source": [
    "numpy_mc = mc_file[\"XiOmegaTree\"].arrays(library=\"np\")"
   ]
  },
  {
   "cell_type": "code",
   "execution_count": 8,
   "id": "7cee450e",
   "metadata": {},
   "outputs": [],
   "source": [
    "## print the array"
   ]
  },
  {
   "cell_type": "markdown",
   "id": "75d53747",
   "metadata": {},
   "source": [
    "Not easy to handle! Better to use Pandas. Pandas is a library that provides data structures and analysis tools for Pyhton. The two primary data structures of pandas are Series (1-dimensional) and DataFrame (2-dimensional) and we will work with them.\n",
    "- Series are 1-dimensional ndarray with axis labels.\n",
    "- DataFrames are 2-dimensional tabular data structure with labeled axes (rows and columns).\n",
    "\n",
    "For more details: https://pandas.pydata.org/pandas-docs/stable/"
   ]
  },
  {
   "cell_type": "code",
   "execution_count": 9,
   "id": "458120eb",
   "metadata": {},
   "outputs": [],
   "source": [
    "## same exercise as before, but use pandas this time"
   ]
  },
  {
   "cell_type": "code",
   "execution_count": 10,
   "id": "18ddbb96",
   "metadata": {},
   "outputs": [],
   "source": [
    "pd_mc = mc_file[\"XiOmegaTree\"].arrays(library=\"pd\")"
   ]
  },
  {
   "cell_type": "code",
   "execution_count": 11,
   "id": "931a5e2e",
   "metadata": {},
   "outputs": [
    {
     "data": {
      "text/html": [
       "<div>\n",
       "<style scoped>\n",
       "    .dataframe tbody tr th:only-of-type {\n",
       "        vertical-align: middle;\n",
       "    }\n",
       "\n",
       "    .dataframe tbody tr th {\n",
       "        vertical-align: top;\n",
       "    }\n",
       "\n",
       "    .dataframe thead th {\n",
       "        text-align: right;\n",
       "    }\n",
       "</style>\n",
       "<table border=\"1\" class=\"dataframe\">\n",
       "  <thead>\n",
       "    <tr style=\"text-align: right;\">\n",
       "      <th></th>\n",
       "      <th>pt</th>\n",
       "      <th>eta</th>\n",
       "      <th>mass</th>\n",
       "      <th>ct</th>\n",
       "      <th>radius</th>\n",
       "      <th>radiusV0</th>\n",
       "      <th>dcaBachPV</th>\n",
       "      <th>dcaV0PV</th>\n",
       "      <th>dcaV0piPV</th>\n",
       "      <th>dcaV0prPV</th>\n",
       "      <th>...</th>\n",
       "      <th>hasITSrefit</th>\n",
       "      <th>isOmega</th>\n",
       "      <th>ptMC</th>\n",
       "      <th>etaMC</th>\n",
       "      <th>ctMC</th>\n",
       "      <th>yMC</th>\n",
       "      <th>pdg</th>\n",
       "      <th>isReconstructed</th>\n",
       "      <th>flag</th>\n",
       "      <th>index</th>\n",
       "    </tr>\n",
       "  </thead>\n",
       "  <tbody>\n",
       "    <tr>\n",
       "      <th>1</th>\n",
       "      <td>3.150304</td>\n",
       "      <td>-0.449235</td>\n",
       "      <td>1.300525</td>\n",
       "      <td>0.976717</td>\n",
       "      <td>2.182812</td>\n",
       "      <td>25.400000</td>\n",
       "      <td>0.277813</td>\n",
       "      <td>0.317500</td>\n",
       "      <td>2.540000</td>\n",
       "      <td>2.192734</td>\n",
       "      <td>...</td>\n",
       "      <td>True</td>\n",
       "      <td>False</td>\n",
       "      <td>1.763839</td>\n",
       "      <td>0.372077</td>\n",
       "      <td>15.831111</td>\n",
       "      <td>0.300148</td>\n",
       "      <td>3312</td>\n",
       "      <td>False</td>\n",
       "      <td>1</td>\n",
       "      <td>0.062918</td>\n",
       "    </tr>\n",
       "    <tr>\n",
       "      <th>2</th>\n",
       "      <td>3.150304</td>\n",
       "      <td>-0.449235</td>\n",
       "      <td>1.300525</td>\n",
       "      <td>0.976717</td>\n",
       "      <td>2.182812</td>\n",
       "      <td>25.400000</td>\n",
       "      <td>0.277813</td>\n",
       "      <td>0.317500</td>\n",
       "      <td>2.540000</td>\n",
       "      <td>2.192734</td>\n",
       "      <td>...</td>\n",
       "      <td>True</td>\n",
       "      <td>False</td>\n",
       "      <td>1.712730</td>\n",
       "      <td>0.320456</td>\n",
       "      <td>4.392962</td>\n",
       "      <td>0.255281</td>\n",
       "      <td>-3312</td>\n",
       "      <td>False</td>\n",
       "      <td>1</td>\n",
       "      <td>0.099576</td>\n",
       "    </tr>\n",
       "    <tr>\n",
       "      <th>8</th>\n",
       "      <td>3.266115</td>\n",
       "      <td>0.520880</td>\n",
       "      <td>1.320198</td>\n",
       "      <td>12.442383</td>\n",
       "      <td>8.731250</td>\n",
       "      <td>25.400000</td>\n",
       "      <td>0.029766</td>\n",
       "      <td>2.143125</td>\n",
       "      <td>2.540000</td>\n",
       "      <td>1.458516</td>\n",
       "      <td>...</td>\n",
       "      <td>True</td>\n",
       "      <td>False</td>\n",
       "      <td>0.150556</td>\n",
       "      <td>2.155669</td>\n",
       "      <td>2.439755</td>\n",
       "      <td>0.465070</td>\n",
       "      <td>-3312</td>\n",
       "      <td>False</td>\n",
       "      <td>1</td>\n",
       "      <td>0.046170</td>\n",
       "    </tr>\n",
       "    <tr>\n",
       "      <th>10</th>\n",
       "      <td>2.837654</td>\n",
       "      <td>0.170919</td>\n",
       "      <td>1.322554</td>\n",
       "      <td>1.822252</td>\n",
       "      <td>3.968750</td>\n",
       "      <td>25.400000</td>\n",
       "      <td>0.218281</td>\n",
       "      <td>0.486172</td>\n",
       "      <td>2.540000</td>\n",
       "      <td>1.686719</td>\n",
       "      <td>...</td>\n",
       "      <td>True</td>\n",
       "      <td>False</td>\n",
       "      <td>0.309397</td>\n",
       "      <td>-0.308881</td>\n",
       "      <td>9.508065</td>\n",
       "      <td>-0.071466</td>\n",
       "      <td>3312</td>\n",
       "      <td>False</td>\n",
       "      <td>1</td>\n",
       "      <td>0.096158</td>\n",
       "    </tr>\n",
       "    <tr>\n",
       "      <th>11</th>\n",
       "      <td>2.837654</td>\n",
       "      <td>0.170919</td>\n",
       "      <td>1.322554</td>\n",
       "      <td>1.822252</td>\n",
       "      <td>3.968750</td>\n",
       "      <td>25.400000</td>\n",
       "      <td>0.218281</td>\n",
       "      <td>0.486172</td>\n",
       "      <td>2.540000</td>\n",
       "      <td>1.686719</td>\n",
       "      <td>...</td>\n",
       "      <td>True</td>\n",
       "      <td>False</td>\n",
       "      <td>0.707328</td>\n",
       "      <td>0.070657</td>\n",
       "      <td>13.641226</td>\n",
       "      <td>0.033360</td>\n",
       "      <td>3312</td>\n",
       "      <td>False</td>\n",
       "      <td>1</td>\n",
       "      <td>0.056997</td>\n",
       "    </tr>\n",
       "    <tr>\n",
       "      <th>...</th>\n",
       "      <td>...</td>\n",
       "      <td>...</td>\n",
       "      <td>...</td>\n",
       "      <td>...</td>\n",
       "      <td>...</td>\n",
       "      <td>...</td>\n",
       "      <td>...</td>\n",
       "      <td>...</td>\n",
       "      <td>...</td>\n",
       "      <td>...</td>\n",
       "      <td>...</td>\n",
       "      <td>...</td>\n",
       "      <td>...</td>\n",
       "      <td>...</td>\n",
       "      <td>...</td>\n",
       "      <td>...</td>\n",
       "      <td>...</td>\n",
       "      <td>...</td>\n",
       "      <td>...</td>\n",
       "      <td>...</td>\n",
       "      <td>...</td>\n",
       "    </tr>\n",
       "    <tr>\n",
       "      <th>5522265</th>\n",
       "      <td>1.620138</td>\n",
       "      <td>-0.418234</td>\n",
       "      <td>1.333478</td>\n",
       "      <td>50.783932</td>\n",
       "      <td>25.400000</td>\n",
       "      <td>25.400000</td>\n",
       "      <td>0.654844</td>\n",
       "      <td>2.540000</td>\n",
       "      <td>1.329531</td>\n",
       "      <td>0.932656</td>\n",
       "      <td>...</td>\n",
       "      <td>False</td>\n",
       "      <td>False</td>\n",
       "      <td>1.088727</td>\n",
       "      <td>0.604939</td>\n",
       "      <td>10.008052</td>\n",
       "      <td>0.397925</td>\n",
       "      <td>-3312</td>\n",
       "      <td>False</td>\n",
       "      <td>1</td>\n",
       "      <td>0.027449</td>\n",
       "    </tr>\n",
       "    <tr>\n",
       "      <th>5522266</th>\n",
       "      <td>1.881422</td>\n",
       "      <td>0.311070</td>\n",
       "      <td>1.321776</td>\n",
       "      <td>5.465716</td>\n",
       "      <td>8.135937</td>\n",
       "      <td>15.577344</td>\n",
       "      <td>1.746250</td>\n",
       "      <td>0.595313</td>\n",
       "      <td>1.071562</td>\n",
       "      <td>0.386953</td>\n",
       "      <td>...</td>\n",
       "      <td>True</td>\n",
       "      <td>False</td>\n",
       "      <td>1.876316</td>\n",
       "      <td>0.313065</td>\n",
       "      <td>5.411336</td>\n",
       "      <td>0.257294</td>\n",
       "      <td>3312</td>\n",
       "      <td>True</td>\n",
       "      <td>1</td>\n",
       "      <td>0.081139</td>\n",
       "    </tr>\n",
       "    <tr>\n",
       "      <th>5522268</th>\n",
       "      <td>0.468545</td>\n",
       "      <td>-0.107885</td>\n",
       "      <td>1.688800</td>\n",
       "      <td>13.752727</td>\n",
       "      <td>20.240625</td>\n",
       "      <td>25.400000</td>\n",
       "      <td>2.540000</td>\n",
       "      <td>2.540000</td>\n",
       "      <td>2.540000</td>\n",
       "      <td>2.182812</td>\n",
       "      <td>...</td>\n",
       "      <td>True</td>\n",
       "      <td>False</td>\n",
       "      <td>2.743973</td>\n",
       "      <td>0.392181</td>\n",
       "      <td>5.585083</td>\n",
       "      <td>0.354955</td>\n",
       "      <td>-3312</td>\n",
       "      <td>False</td>\n",
       "      <td>1</td>\n",
       "      <td>0.059814</td>\n",
       "    </tr>\n",
       "    <tr>\n",
       "      <th>5522269</th>\n",
       "      <td>2.049453</td>\n",
       "      <td>0.461988</td>\n",
       "      <td>1.325137</td>\n",
       "      <td>0.897245</td>\n",
       "      <td>0.595312</td>\n",
       "      <td>1.190625</td>\n",
       "      <td>0.029766</td>\n",
       "      <td>0.396875</td>\n",
       "      <td>0.664766</td>\n",
       "      <td>0.238125</td>\n",
       "      <td>...</td>\n",
       "      <td>True</td>\n",
       "      <td>False</td>\n",
       "      <td>3.326525</td>\n",
       "      <td>0.367601</td>\n",
       "      <td>0.513976</td>\n",
       "      <td>0.342626</td>\n",
       "      <td>3312</td>\n",
       "      <td>False</td>\n",
       "      <td>1</td>\n",
       "      <td>0.023902</td>\n",
       "    </tr>\n",
       "    <tr>\n",
       "      <th>5522273</th>\n",
       "      <td>3.548899</td>\n",
       "      <td>-0.681271</td>\n",
       "      <td>1.320105</td>\n",
       "      <td>12.495556</td>\n",
       "      <td>7.044531</td>\n",
       "      <td>7.739062</td>\n",
       "      <td>2.540000</td>\n",
       "      <td>0.525859</td>\n",
       "      <td>2.540000</td>\n",
       "      <td>0.297656</td>\n",
       "      <td>...</td>\n",
       "      <td>False</td>\n",
       "      <td>False</td>\n",
       "      <td>3.797151</td>\n",
       "      <td>-0.425157</td>\n",
       "      <td>5.734587</td>\n",
       "      <td>-0.402757</td>\n",
       "      <td>-3312</td>\n",
       "      <td>False</td>\n",
       "      <td>1</td>\n",
       "      <td>0.080183</td>\n",
       "    </tr>\n",
       "  </tbody>\n",
       "</table>\n",
       "<p>1624540 rows × 36 columns</p>\n",
       "</div>"
      ],
      "text/plain": [
       "               pt       eta      mass         ct     radius   radiusV0   \n",
       "1        3.150304 -0.449235  1.300525   0.976717   2.182812  25.400000  \\\n",
       "2        3.150304 -0.449235  1.300525   0.976717   2.182812  25.400000   \n",
       "8        3.266115  0.520880  1.320198  12.442383   8.731250  25.400000   \n",
       "10       2.837654  0.170919  1.322554   1.822252   3.968750  25.400000   \n",
       "11       2.837654  0.170919  1.322554   1.822252   3.968750  25.400000   \n",
       "...           ...       ...       ...        ...        ...        ...   \n",
       "5522265  1.620138 -0.418234  1.333478  50.783932  25.400000  25.400000   \n",
       "5522266  1.881422  0.311070  1.321776   5.465716   8.135937  15.577344   \n",
       "5522268  0.468545 -0.107885  1.688800  13.752727  20.240625  25.400000   \n",
       "5522269  2.049453  0.461988  1.325137   0.897245   0.595312   1.190625   \n",
       "5522273  3.548899 -0.681271  1.320105  12.495556   7.044531   7.739062   \n",
       "\n",
       "         dcaBachPV   dcaV0PV  dcaV0piPV  dcaV0prPV  ...  hasITSrefit  isOmega   \n",
       "1         0.277813  0.317500   2.540000   2.192734  ...         True    False  \\\n",
       "2         0.277813  0.317500   2.540000   2.192734  ...         True    False   \n",
       "8         0.029766  2.143125   2.540000   1.458516  ...         True    False   \n",
       "10        0.218281  0.486172   2.540000   1.686719  ...         True    False   \n",
       "11        0.218281  0.486172   2.540000   1.686719  ...         True    False   \n",
       "...            ...       ...        ...        ...  ...          ...      ...   \n",
       "5522265   0.654844  2.540000   1.329531   0.932656  ...        False    False   \n",
       "5522266   1.746250  0.595313   1.071562   0.386953  ...         True    False   \n",
       "5522268   2.540000  2.540000   2.540000   2.182812  ...         True    False   \n",
       "5522269   0.029766  0.396875   0.664766   0.238125  ...         True    False   \n",
       "5522273   2.540000  0.525859   2.540000   0.297656  ...        False    False   \n",
       "\n",
       "             ptMC     etaMC       ctMC       yMC   pdg  isReconstructed  flag   \n",
       "1        1.763839  0.372077  15.831111  0.300148  3312            False     1  \\\n",
       "2        1.712730  0.320456   4.392962  0.255281 -3312            False     1   \n",
       "8        0.150556  2.155669   2.439755  0.465070 -3312            False     1   \n",
       "10       0.309397 -0.308881   9.508065 -0.071466  3312            False     1   \n",
       "11       0.707328  0.070657  13.641226  0.033360  3312            False     1   \n",
       "...           ...       ...        ...       ...   ...              ...   ...   \n",
       "5522265  1.088727  0.604939  10.008052  0.397925 -3312            False     1   \n",
       "5522266  1.876316  0.313065   5.411336  0.257294  3312             True     1   \n",
       "5522268  2.743973  0.392181   5.585083  0.354955 -3312            False     1   \n",
       "5522269  3.326525  0.367601   0.513976  0.342626  3312            False     1   \n",
       "5522273  3.797151 -0.425157   5.734587 -0.402757 -3312            False     1   \n",
       "\n",
       "            index  \n",
       "1        0.062918  \n",
       "2        0.099576  \n",
       "8        0.046170  \n",
       "10       0.096158  \n",
       "11       0.056997  \n",
       "...           ...  \n",
       "5522265  0.027449  \n",
       "5522266  0.081139  \n",
       "5522268  0.059814  \n",
       "5522269  0.023902  \n",
       "5522273  0.080183  \n",
       "\n",
       "[1624540 rows x 36 columns]"
      ]
     },
     "execution_count": 11,
     "metadata": {},
     "output_type": "execute_result"
    }
   ],
   "source": [
    "# Xi0(3322) = 0\n",
    "# Xi-(3312) = 1624540 (and Not Omega)\n",
    "pd_mc.query('isOmega==0 & abs(pdg)==3312')"
   ]
  },
  {
   "cell_type": "code",
   "execution_count": 12,
   "id": "0d9a12c2",
   "metadata": {},
   "outputs": [
    {
     "data": {
      "text/plain": [
       "Index(['pt', 'eta', 'mass', 'ct', 'radius', 'radiusV0', 'dcaBachPV', 'dcaV0PV',\n",
       "       'dcaV0piPV', 'dcaV0prPV', 'dcaV0tracks', 'dcaBachV0', 'cosPA',\n",
       "       'cosPAV0', 'V0invMassDelta', 'tpcNsigmaBach', 'tpcNsigmaV0Pr',\n",
       "       'tpcNsigmaV0Pi', 'competingMass', 'bachBarCosPA', 'tpcClBach',\n",
       "       'tpcClV0Pr', 'tpcClV0Pi', 'centrality', 'matter', 'hasTOFhit',\n",
       "       'hasITSrefit', 'isOmega', 'ptMC', 'etaMC', 'ctMC', 'yMC', 'pdg',\n",
       "       'isReconstructed', 'flag', 'index'],\n",
       "      dtype='object')"
      ]
     },
     "execution_count": 12,
     "metadata": {},
     "output_type": "execute_result"
    }
   ],
   "source": [
    "pd_mc.columns ## the suffix MC indicates the generated quantity"
   ]
  },
  {
   "cell_type": "markdown",
   "id": "71773ecb",
   "metadata": {},
   "source": [
    "#### Query and eval operations to apply selections and generate new columns"
   ]
  },
  {
   "cell_type": "code",
   "execution_count": 55,
   "id": "23efae44",
   "metadata": {},
   "outputs": [],
   "source": [
    "## let's focus only on Omegas\n",
    "pd_mc.query(\"isOmega==0 & abs(pdg)==3312\", inplace=True)"
   ]
  },
  {
   "cell_type": "code",
   "execution_count": 14,
   "id": "a57c33d4",
   "metadata": {},
   "outputs": [
    {
     "data": {
      "image/png": "[encoded data removed]",
      "text/plain": [
       "<Figure size 640x480 with 1 Axes>"
      ]
     },
     "metadata": {},
     "output_type": "display_data"
    }
   ],
   "source": [
    "## have a look at the momentum and decay length generated distributions\n",
    "plt.hist(pd_mc[\"ctMC\"], bins=1000, range=[1,15]);\n",
    "plt.yscale(\"log\")\n",
    "plt.xlabel(r\"$ct$ (cm)\");\n",
    "plt.ylabel(\"Counts\");"
   ]
  },
  {
   "cell_type": "code",
   "execution_count": 15,
   "id": "d50b8df1",
   "metadata": {},
   "outputs": [],
   "source": [
    "## select only the MC particles that are reconstructed, but keep the full df\n",
    "df_reco = pd_mc.query(\"isReconstructed\")"
   ]
  },
  {
   "cell_type": "code",
   "execution_count": 16,
   "id": "5f45447d",
   "metadata": {},
   "outputs": [],
   "source": [
    "## compute the relative momentum resolution using eval"
   ]
  },
  {
   "cell_type": "code",
   "execution_count": 17,
   "id": "fb31f269",
   "metadata": {},
   "outputs": [],
   "source": [
    "df_reco.eval(\"momRes = (pt - ptMC)/ptMC\", inplace=True)"
   ]
  },
  {
   "cell_type": "code",
   "execution_count": 18,
   "id": "8ca7b48b",
   "metadata": {
    "scrolled": false
   },
   "outputs": [
    {
     "data": {
      "image/png": "[encoded data removed]",
      "text/plain": [
       "<Figure size 640x480 with 1 Axes>"
      ]
     },
     "metadata": {},
     "output_type": "display_data"
    }
   ],
   "source": [
    "plt.hist(df_reco[\"momRes\"], bins=800, range=[-0.1,0.1]);\n",
    "plt.xlabel(r\"$(p_{\\mathrm{T}} ^{gen} - p_{\\mathrm{T}} ^{rec}) / p_{\\mathrm{T}} ^{gen}$\");"
   ]
  },
  {
   "cell_type": "code",
   "execution_count": 19,
   "id": "b29934e5",
   "metadata": {},
   "outputs": [],
   "source": [
    "## compute the efficiency vs momentum using numpy histograms"
   ]
  },
  {
   "cell_type": "code",
   "execution_count": 20,
   "id": "33f859e1",
   "metadata": {},
   "outputs": [],
   "source": [
    "mc_gen_hist_numpy = np.histogram(pd_mc['ptMC'], bins=100, range=[1,5])\n",
    "mc_rec_hist_numpy = np.histogram(df_reco['pt'], bins=100, range=[1,5])\n"
   ]
  },
  {
   "cell_type": "code",
   "execution_count": 21,
   "id": "78e3524b",
   "metadata": {},
   "outputs": [],
   "source": [
    "bins = mc_gen_hist_numpy[1]\n",
    "bin_centres = (bins[:-1] + bins[1:]) / 2"
   ]
  },
  {
   "cell_type": "code",
   "execution_count": 22,
   "id": "2a87d22b",
   "metadata": {},
   "outputs": [],
   "source": [
    "eff_vals = mc_rec_hist_numpy[0]/mc_gen_hist_numpy[0]"
   ]
  },
  {
   "cell_type": "code",
   "execution_count": 23,
   "id": "dd7e97fd",
   "metadata": {},
   "outputs": [
    {
     "data": {
      "image/png": "[encoded data removed]",
      "text/plain": [
       "<Figure size 640x480 with 1 Axes>"
      ]
     },
     "metadata": {},
     "output_type": "display_data"
    }
   ],
   "source": [
    "plt.plot(bin_centres, eff_vals);\n",
    "plt.xlabel(r\"$p_\\mathrm{T}$ (GeV/$c$)\", fontsize=14);\n",
    "plt.ylabel(r\"Counts\", fontsize=14);"
   ]
  },
  {
   "cell_type": "markdown",
   "id": "faa35ff7",
   "metadata": {},
   "source": [
    "## Machine Learning"
   ]
  },
  {
   "cell_type": "markdown",
   "id": "3360d2a2",
   "metadata": {},
   "source": [
    "Supervised learning is a subcategory of ML well known in HEP. Supervised learning\n",
    "algorithms are employed for discriminating between two or more classes, signal and\n",
    "background in our case, starting from a set of examples called training set. Each\n",
    "element of the training sample, a $\\Omega$ candidate in this tutorial, has a label\n",
    "containing its class (signal / background), which is known a priori: the training\n",
    "process fixes the internal parameters of the learning algorithm in order to maximize\n",
    "the separation power among the classes. The goal of the training is to teach to the model a common pattern in data that can be used to classify properly an independent sample, in our case the real data sample. The output of the supervised model, or score, is evaluated starting from the candidate properties, which are called features. The score is related to the candidate probability of belonging to the different classes\n",
    "\n",
    "\n",
    "In this tutorial Boosted Decision Trees (BDTs) will be used for tagging real $\\Omega$ candidates. The core of every BDT model is the decision tree algorithm (DT). A\n",
    "DT is a flowchart-like binary structure where an internal node represents a feature(or\n",
    "candidate), the branch represents a decision rule, and each leaf node represents the\n",
    "outcome. The topmost node in a decision tree is known as the root node. The DT\n",
    "works by combining a sequence of simple binary tests (each branch of the tree), to\n",
    "classify a data point in terms of its features. Each test consists in a linear threshold\n",
    "applied to one of the features which helps the model to predict the belonging class\n",
    "of every candidate. \n",
    "\n",
    "<img src=\"img/Titanic_Survival_Decison_Tree_SVG.png\" \n",
    "     align=\"center\" \n",
    "     width=\"400\" />\n",
    "\n",
    "\n",
    "The training of a DT consists in the automatic procedure that builds the tree recursively starting from the training set. The main flaw of the DT is that it is prone to the so-called overfitting: this means that the model is able to perfectly classify the training set if deep enough (the depth\n",
    "is defined as the length of the longest path from a root to a leaf), but it does not generalize well to new data. Overfitting occurs when the model memorizes the training\n",
    "set rather than learning a general pattern in the data. To overcome this problem,\n",
    "BDT algorithms combine numerous shallow trees using for each a subsample of\n",
    "features. In particular, in the boosting procedure the DTs are constructed sequentially\n",
    "taking care of compensating the misclassified candidates of the previous trees. The\n",
    "resulting model, the BDT, maintains high performances both on the training and the\n",
    "test set.\n",
    "\n",
    "<img src=\"img/xgb_score.png\" \n",
    "     align=\"center\" \n",
    "     width=\"400\" />\n",
    "\n",
    "\n"
   ]
  },
  {
   "cell_type": "markdown",
   "id": "8118424f",
   "metadata": {},
   "source": [
    "First we will import hipe4ml: https://github.com/hipe4ml/hipe4ml\n",
    "\n",
    "This is a package developed in ALICE containing useful methods and classes for dealing with ML analyses. Two main classes are implemented:\n",
    "- TreeHandler, wrapping uproot and pandas methods: allows for conversion and handling of the training samples\n",
    "- ModelHandler, a common interface for many ML methods"
   ]
  },
  {
   "cell_type": "code",
   "execution_count": 24,
   "id": "5689902b",
   "metadata": {},
   "outputs": [],
   "source": [
    "from hipe4ml.model_handler import ModelHandler\n",
    "from hipe4ml.tree_handler import TreeHandler\n",
    "from hipe4ml import analysis_utils\n",
    "from hipe4ml import plot_utils"
   ]
  },
  {
   "cell_type": "code",
   "execution_count": 56,
   "id": "3040140d",
   "metadata": {},
   "outputs": [],
   "source": [
    "hdl_mc = TreeHandler(\"AnalysisResults-mc_reduced.root\", \"XiOmegaTree\")\n",
    "hdl_data = TreeHandler(\"AnalysisResults_reduced.root\", \"XiOmegaTree\")"
   ]
  },
  {
   "cell_type": "code",
   "execution_count": 57,
   "id": "2e991f67",
   "metadata": {},
   "outputs": [],
   "source": [
    "### select only reconstructed MC Omega candidates: they will be our signal sample for the training\n",
    "hdl_mc.apply_preselections(\"abs(pdg)==3312 and isOmega==0 and isReconstructed==1\") "
   ]
  },
  {
   "cell_type": "code",
   "execution_count": 58,
   "id": "066f3883",
   "metadata": {},
   "outputs": [
    {
     "name": "stdout",
     "output_type": "stream",
     "text": [
      "\n",
      "File name:  ['AnalysisResults-mc_reduced.root']\n",
      "Tree name:  XiOmegaTree\n",
      "DataFrame head:\n",
      "            pt       eta      mass        ct     radius   radiusV0  dcaBachPV   \n",
      "50   3.596259 -0.148910  1.319424  5.919810  15.775781  17.760156   0.148828  \\\n",
      "79   1.484904  0.465710  1.321596  7.342254   7.838281  12.005469   2.212578   \n",
      "97   4.015166 -0.396483  1.320632  1.904451   6.151562  25.400000   1.061641   \n",
      "100  2.785407 -0.091957  1.321523  6.197176  13.196094  25.400000   0.615156   \n",
      "101  2.538664  0.146084  1.319755  2.173381   3.869531  10.616406   0.267891   \n",
      "\n",
      "      dcaV0PV  dcaV0piPV  dcaV0prPV  ...  hasITSrefit  isOmega      ptMC   \n",
      "50   0.506016   2.420937   0.525859  ...         True    False  3.612960  \\\n",
      "79   1.081484   2.540000   0.277813  ...         True    False  1.465769   \n",
      "97   0.188516   2.540000   0.942578  ...         True    False  3.998882   \n",
      "100  0.754062   2.540000   2.440781  ...         True    False  2.782307   \n",
      "101  0.297656   2.540000   0.684609  ...         True    False  2.536532   \n",
      "\n",
      "        etaMC      ctMC       yMC   pdg  isReconstructed  flag     index  \n",
      "50  -0.144960  5.949136 -0.136193  3312             True     1  0.031976  \n",
      "79   0.462991  7.364333  0.349126 -3312             True     1  0.068426  \n",
      "97  -0.395844  1.951803 -0.376763 -3312             True     1  0.071579  \n",
      "100 -0.093245  6.177154 -0.084247  3312             True     1  0.087293  \n",
      "101  0.143820  2.172839  0.127637 -3312             True     1  0.082365  \n",
      "\n",
      "[5 rows x 36 columns]\n",
      "\n",
      "Preselections: abs(pdg)==3312 and isOmega==0 and isReconstructed==1\n",
      "Sliced variable:  None\n",
      "Slices binning:  None\n"
     ]
    }
   ],
   "source": [
    "hdl_mc.print_summary()"
   ]
  },
  {
   "cell_type": "code",
   "execution_count": 28,
   "id": "de14af1e",
   "metadata": {},
   "outputs": [],
   "source": [
    "### How to select the background? We can take it from the candidates available in\n",
    "### the sidebands of our real data sample! "
   ]
  },
  {
   "cell_type": "code",
   "execution_count": 62,
   "id": "6c41171e",
   "metadata": {},
   "outputs": [],
   "source": [
    "hdl_bkg = hdl_data.apply_preselections(\"mass < 1.308 or mass > 1.333\", inplace=False)"
   ]
  },
  {
   "cell_type": "code",
   "execution_count": 63,
   "id": "a4aabfa4",
   "metadata": {},
   "outputs": [
    {
     "name": "stderr",
     "output_type": "stream",
     "text": [
      "No artists with labels found to put in legend.  Note that artists whose label start with an underscore are ignored when legend() is called with no argument.\n"
     ]
    },
    {
     "data": {
      "text/plain": [
       "<Axes: title={'center': 'mass'}, ylabel='Counts'>"
      ]
     },
     "execution_count": 63,
     "metadata": {},
     "output_type": "execute_result"
    },
    {
     "data": {
      "image/png": "[encoded data removed]",
      "text/plain": [
       "<Figure size 640x480 with 1 Axes>"
      ]
     },
     "metadata": {},
     "output_type": "display_data"
    }
   ],
   "source": [
    "plot_utils.plot_distr(hdl_bkg,'mass')"
   ]
  },
  {
   "cell_type": "code",
   "execution_count": 64,
   "id": "8bf8febc",
   "metadata": {
    "scrolled": true
   },
   "outputs": [
    {
     "name": "stdout",
     "output_type": "stream",
     "text": [
      "3487482 196811\n"
     ]
    }
   ],
   "source": [
    "print(len(hdl_bkg), len(hdl_mc))"
   ]
  },
  {
   "cell_type": "markdown",
   "id": "7ebc9db7",
   "metadata": {},
   "source": [
    "The bkg data sample is much larger than the signal one. This does not represent a problem, as the BDT is not sensitive to the relative abundances of the classes. However, to speed-up the training process, only a 20% fraction of the background will be\n",
    "used for the training"
   ]
  },
  {
   "cell_type": "code",
   "execution_count": 65,
   "id": "77f470a2",
   "metadata": {},
   "outputs": [],
   "source": [
    "hdl_bkg.shuffle_data_frame(frac=0.20, inplace=True)"
   ]
  },
  {
   "cell_type": "code",
   "execution_count": 52,
   "id": "a687fd10",
   "metadata": {},
   "outputs": [],
   "source": [
    "## now we remove the background from the data sample\n",
    "hdl_data.apply_preselections(\"mass > 1.308 or mass < 1.333\", inplace=True)"
   ]
  },
  {
   "cell_type": "markdown",
   "id": "d4865b5b",
   "metadata": {},
   "source": [
    "Data prepared! Now, before the training, we need to visualize the feature properties.\n",
    "hipe4ml plot utilities allow for\n",
    "- comparing the features of different samples (plot_distr)\n",
    "- evaluate the correlations among the features"
   ]
  },
  {
   "cell_type": "code",
   "execution_count": 53,
   "id": "b780d1a5",
   "metadata": {},
   "outputs": [],
   "source": [
    "cols_to_be_compared = ['pt', 'ct', 'mass', 'dcaBachPV', 'dcaV0PV', 'dcaV0piPV', 'dcaV0prPV', 'dcaV0tracks', \n",
    "                 'dcaBachV0','cosPA', 'cosPAV0', 'tpcNsigmaV0Pr']"
   ]
  },
  {
   "cell_type": "code",
   "execution_count": 54,
   "id": "7ff1ce8e",
   "metadata": {
    "scrolled": false
   },
   "outputs": [
    {
     "data": {
      "image/png": "[encoded data removed]",
      "text/plain": [
       "<Figure size 1200x1200 with 12 Axes>"
      ]
     },
     "metadata": {},
     "output_type": "display_data"
    }
   ],
   "source": [
    "## some matplotlib tuning is needed to display all the features\n",
    "plot_utils.plot_distr([hdl_mc, hdl_bkg], cols_to_be_compared, \n",
    "                      bins=50, labels=['Signal', 'Background'],\n",
    "                      log=True, density=True, figsize=(12, 12), alpha=0.3, grid=False);"
   ]
  },
  {
   "cell_type": "markdown",
   "id": "fb517d0d",
   "metadata": {},
   "source": [
    "#### Some questions....\n",
    "- Which variables do we expect to be relevant for the training? Can we use all of them? Pros  and cons?\n",
    "- why do we see some spikes in the DCA?"
   ]
  },
  {
   "cell_type": "markdown",
   "id": "537801fc",
   "metadata": {},
   "source": [
    "And correlations are important as well: the model can potentially exploit them to perform a better classification. Moreover, there could be some potentially dangerous correlations as those with the invariant mass of the particle of interest"
   ]
  },
  {
   "cell_type": "code",
   "execution_count": 35,
   "id": "aa9dafe7",
   "metadata": {},
   "outputs": [
    {
     "data": {
      "image/png": "[encoded data removed]",
      "text/plain": [
       "<Figure size 800x700 with 2 Axes>"
      ]
     },
     "metadata": {},
     "output_type": "display_data"
    },
    {
     "data": {
      "image/png": "[encoded data removed]",
      "text/plain": [
       "<Figure size 800x700 with 2 Axes>"
      ]
     },
     "metadata": {},
     "output_type": "display_data"
    }
   ],
   "source": [
    "plot_utils.plot_corr([hdl_mc, hdl_bkg], cols_to_be_compared, labels=['Signal', 'Background']);"
   ]
  },
  {
   "cell_type": "markdown",
   "id": "6246caf8",
   "metadata": {},
   "source": [
    "Considerations? Doubts? Let's now define the training columns and build the training sample"
   ]
  },
  {
   "cell_type": "code",
   "execution_count": 36,
   "id": "7021f9d4",
   "metadata": {},
   "outputs": [],
   "source": [
    "training_cols = ['dcaBachPV', 'dcaV0PV', 'dcaV0piPV', 'dcaV0prPV', 'dcaV0tracks', \n",
    "                 'dcaBachV0','cosPA', 'cosPAV0', 'tpcNsigmaV0Pr']"
   ]
  },
  {
   "cell_type": "markdown",
   "id": "7b5a2f3b",
   "metadata": {},
   "source": [
    "Now we split our data in a training and test set. To do it, we use the train_test_generator function from hipe4ml"
   ]
  },
  {
   "cell_type": "code",
   "execution_count": 37,
   "id": "3f9e203b",
   "metadata": {},
   "outputs": [],
   "source": [
    "train_test_data = analysis_utils.train_test_generator([hdl_bkg, hdl_mc], [0, 1], test_size=0.5, random_state=42)"
   ]
  },
  {
   "cell_type": "code",
   "execution_count": 38,
   "id": "5e573ae4",
   "metadata": {
    "scrolled": false
   },
   "outputs": [
    {
     "data": {
      "text/html": [
       "<div>\n",
       "<style scoped>\n",
       "    .dataframe tbody tr th:only-of-type {\n",
       "        vertical-align: middle;\n",
       "    }\n",
       "\n",
       "    .dataframe tbody tr th {\n",
       "        vertical-align: top;\n",
       "    }\n",
       "\n",
       "    .dataframe thead th {\n",
       "        text-align: right;\n",
       "    }\n",
       "</style>\n",
       "<table border=\"1\" class=\"dataframe\">\n",
       "  <thead>\n",
       "    <tr style=\"text-align: right;\">\n",
       "      <th></th>\n",
       "      <th>V0invMassDelta</th>\n",
       "      <th>bachBarCosPA</th>\n",
       "      <th>centrality</th>\n",
       "      <th>competingMass</th>\n",
       "      <th>cosPA</th>\n",
       "      <th>cosPAV0</th>\n",
       "      <th>ct</th>\n",
       "      <th>ctMC</th>\n",
       "      <th>dcaBachPV</th>\n",
       "      <th>dcaBachV0</th>\n",
       "      <th>...</th>\n",
       "      <th>ptMC</th>\n",
       "      <th>radius</th>\n",
       "      <th>radiusV0</th>\n",
       "      <th>tpcClBach</th>\n",
       "      <th>tpcClV0Pi</th>\n",
       "      <th>tpcClV0Pr</th>\n",
       "      <th>tpcNsigmaBach</th>\n",
       "      <th>tpcNsigmaV0Pi</th>\n",
       "      <th>tpcNsigmaV0Pr</th>\n",
       "      <th>yMC</th>\n",
       "    </tr>\n",
       "  </thead>\n",
       "  <tbody>\n",
       "    <tr>\n",
       "      <th>1929378</th>\n",
       "      <td>-0.002500</td>\n",
       "      <td>0.999906</td>\n",
       "      <td>6</td>\n",
       "      <td>0.126008</td>\n",
       "      <td>0.999665</td>\n",
       "      <td>0.999914</td>\n",
       "      <td>3.738420</td>\n",
       "      <td>NaN</td>\n",
       "      <td>1.369219</td>\n",
       "      <td>0.714375</td>\n",
       "      <td>...</td>\n",
       "      <td>NaN</td>\n",
       "      <td>6.647656</td>\n",
       "      <td>25.400000</td>\n",
       "      <td>76</td>\n",
       "      <td>92</td>\n",
       "      <td>137</td>\n",
       "      <td>-1.210938</td>\n",
       "      <td>0.390625</td>\n",
       "      <td>2.031250</td>\n",
       "      <td>NaN</td>\n",
       "    </tr>\n",
       "    <tr>\n",
       "      <th>5075524</th>\n",
       "      <td>0.000547</td>\n",
       "      <td>0.999900</td>\n",
       "      <td>54</td>\n",
       "      <td>0.010914</td>\n",
       "      <td>0.999972</td>\n",
       "      <td>0.999852</td>\n",
       "      <td>4.630147</td>\n",
       "      <td>4.486795</td>\n",
       "      <td>2.212578</td>\n",
       "      <td>0.069453</td>\n",
       "      <td>...</td>\n",
       "      <td>3.393957</td>\n",
       "      <td>11.707812</td>\n",
       "      <td>25.400000</td>\n",
       "      <td>155</td>\n",
       "      <td>134</td>\n",
       "      <td>147</td>\n",
       "      <td>2.187500</td>\n",
       "      <td>0.898438</td>\n",
       "      <td>-0.585938</td>\n",
       "      <td>-0.172081</td>\n",
       "    </tr>\n",
       "    <tr>\n",
       "      <th>5493436</th>\n",
       "      <td>0.002734</td>\n",
       "      <td>0.999911</td>\n",
       "      <td>25</td>\n",
       "      <td>0.216297</td>\n",
       "      <td>0.999924</td>\n",
       "      <td>0.999918</td>\n",
       "      <td>7.789341</td>\n",
       "      <td>7.832053</td>\n",
       "      <td>2.540000</td>\n",
       "      <td>0.099219</td>\n",
       "      <td>...</td>\n",
       "      <td>3.556470</td>\n",
       "      <td>20.637500</td>\n",
       "      <td>25.400000</td>\n",
       "      <td>124</td>\n",
       "      <td>107</td>\n",
       "      <td>148</td>\n",
       "      <td>1.054688</td>\n",
       "      <td>0.234375</td>\n",
       "      <td>1.210938</td>\n",
       "      <td>-0.149334</td>\n",
       "    </tr>\n",
       "    <tr>\n",
       "      <th>3321103</th>\n",
       "      <td>-0.000703</td>\n",
       "      <td>0.999900</td>\n",
       "      <td>6</td>\n",
       "      <td>0.000992</td>\n",
       "      <td>0.990483</td>\n",
       "      <td>0.999358</td>\n",
       "      <td>2.988015</td>\n",
       "      <td>NaN</td>\n",
       "      <td>1.706562</td>\n",
       "      <td>0.128984</td>\n",
       "      <td>...</td>\n",
       "      <td>NaN</td>\n",
       "      <td>4.663281</td>\n",
       "      <td>12.005469</td>\n",
       "      <td>117</td>\n",
       "      <td>98</td>\n",
       "      <td>129</td>\n",
       "      <td>-1.328125</td>\n",
       "      <td>-0.781250</td>\n",
       "      <td>0.742188</td>\n",
       "      <td>NaN</td>\n",
       "    </tr>\n",
       "    <tr>\n",
       "      <th>246508</th>\n",
       "      <td>-0.000078</td>\n",
       "      <td>0.999900</td>\n",
       "      <td>4</td>\n",
       "      <td>0.134937</td>\n",
       "      <td>0.998804</td>\n",
       "      <td>0.999829</td>\n",
       "      <td>2.626427</td>\n",
       "      <td>NaN</td>\n",
       "      <td>0.853281</td>\n",
       "      <td>0.238125</td>\n",
       "      <td>...</td>\n",
       "      <td>NaN</td>\n",
       "      <td>4.365625</td>\n",
       "      <td>20.042187</td>\n",
       "      <td>99</td>\n",
       "      <td>113</td>\n",
       "      <td>108</td>\n",
       "      <td>-0.859375</td>\n",
       "      <td>-2.265625</td>\n",
       "      <td>-1.132812</td>\n",
       "      <td>NaN</td>\n",
       "    </tr>\n",
       "    <tr>\n",
       "      <th>...</th>\n",
       "      <td>...</td>\n",
       "      <td>...</td>\n",
       "      <td>...</td>\n",
       "      <td>...</td>\n",
       "      <td>...</td>\n",
       "      <td>...</td>\n",
       "      <td>...</td>\n",
       "      <td>...</td>\n",
       "      <td>...</td>\n",
       "      <td>...</td>\n",
       "      <td>...</td>\n",
       "      <td>...</td>\n",
       "      <td>...</td>\n",
       "      <td>...</td>\n",
       "      <td>...</td>\n",
       "      <td>...</td>\n",
       "      <td>...</td>\n",
       "      <td>...</td>\n",
       "      <td>...</td>\n",
       "      <td>...</td>\n",
       "      <td>...</td>\n",
       "    </tr>\n",
       "    <tr>\n",
       "      <th>1880441</th>\n",
       "      <td>-0.002734</td>\n",
       "      <td>0.999900</td>\n",
       "      <td>6</td>\n",
       "      <td>0.094258</td>\n",
       "      <td>0.973632</td>\n",
       "      <td>0.996437</td>\n",
       "      <td>1.448341</td>\n",
       "      <td>NaN</td>\n",
       "      <td>0.109141</td>\n",
       "      <td>0.039688</td>\n",
       "      <td>...</td>\n",
       "      <td>NaN</td>\n",
       "      <td>2.480469</td>\n",
       "      <td>8.830469</td>\n",
       "      <td>119</td>\n",
       "      <td>124</td>\n",
       "      <td>133</td>\n",
       "      <td>0.000000</td>\n",
       "      <td>-0.742188</td>\n",
       "      <td>1.289062</td>\n",
       "      <td>NaN</td>\n",
       "    </tr>\n",
       "    <tr>\n",
       "      <th>3077800</th>\n",
       "      <td>-0.005859</td>\n",
       "      <td>0.999900</td>\n",
       "      <td>2</td>\n",
       "      <td>0.137914</td>\n",
       "      <td>0.988548</td>\n",
       "      <td>0.999934</td>\n",
       "      <td>2.959875</td>\n",
       "      <td>NaN</td>\n",
       "      <td>0.297656</td>\n",
       "      <td>0.297656</td>\n",
       "      <td>...</td>\n",
       "      <td>NaN</td>\n",
       "      <td>6.647656</td>\n",
       "      <td>25.400000</td>\n",
       "      <td>123</td>\n",
       "      <td>97</td>\n",
       "      <td>129</td>\n",
       "      <td>0.664062</td>\n",
       "      <td>-0.468750</td>\n",
       "      <td>1.367188</td>\n",
       "      <td>NaN</td>\n",
       "    </tr>\n",
       "    <tr>\n",
       "      <th>1442434</th>\n",
       "      <td>0.000547</td>\n",
       "      <td>0.999900</td>\n",
       "      <td>1</td>\n",
       "      <td>0.042664</td>\n",
       "      <td>0.998441</td>\n",
       "      <td>0.993251</td>\n",
       "      <td>2.538233</td>\n",
       "      <td>NaN</td>\n",
       "      <td>0.922734</td>\n",
       "      <td>0.436563</td>\n",
       "      <td>...</td>\n",
       "      <td>NaN</td>\n",
       "      <td>4.067969</td>\n",
       "      <td>4.067969</td>\n",
       "      <td>111</td>\n",
       "      <td>109</td>\n",
       "      <td>121</td>\n",
       "      <td>3.515625</td>\n",
       "      <td>0.703125</td>\n",
       "      <td>1.328125</td>\n",
       "      <td>NaN</td>\n",
       "    </tr>\n",
       "    <tr>\n",
       "      <th>2867682</th>\n",
       "      <td>0.003750</td>\n",
       "      <td>0.999900</td>\n",
       "      <td>2</td>\n",
       "      <td>0.159742</td>\n",
       "      <td>0.981502</td>\n",
       "      <td>0.999799</td>\n",
       "      <td>2.075080</td>\n",
       "      <td>NaN</td>\n",
       "      <td>0.466328</td>\n",
       "      <td>0.297656</td>\n",
       "      <td>...</td>\n",
       "      <td>NaN</td>\n",
       "      <td>1.587500</td>\n",
       "      <td>6.052344</td>\n",
       "      <td>125</td>\n",
       "      <td>88</td>\n",
       "      <td>141</td>\n",
       "      <td>-3.984375</td>\n",
       "      <td>1.914062</td>\n",
       "      <td>-0.859375</td>\n",
       "      <td>NaN</td>\n",
       "    </tr>\n",
       "    <tr>\n",
       "      <th>1956767</th>\n",
       "      <td>-0.000234</td>\n",
       "      <td>0.999900</td>\n",
       "      <td>30</td>\n",
       "      <td>0.138906</td>\n",
       "      <td>0.990376</td>\n",
       "      <td>0.986317</td>\n",
       "      <td>2.971528</td>\n",
       "      <td>NaN</td>\n",
       "      <td>0.267891</td>\n",
       "      <td>0.694531</td>\n",
       "      <td>...</td>\n",
       "      <td>NaN</td>\n",
       "      <td>3.671094</td>\n",
       "      <td>4.564062</td>\n",
       "      <td>119</td>\n",
       "      <td>114</td>\n",
       "      <td>122</td>\n",
       "      <td>2.421875</td>\n",
       "      <td>-0.937500</td>\n",
       "      <td>-3.945312</td>\n",
       "      <td>NaN</td>\n",
       "    </tr>\n",
       "  </tbody>\n",
       "</table>\n",
       "<p>447153 rows × 36 columns</p>\n",
       "</div>"
      ],
      "text/plain": [
       "         V0invMassDelta  bachBarCosPA  centrality  competingMass     cosPA   \n",
       "1929378       -0.002500      0.999906           6       0.126008  0.999665  \\\n",
       "5075524        0.000547      0.999900          54       0.010914  0.999972   \n",
       "5493436        0.002734      0.999911          25       0.216297  0.999924   \n",
       "3321103       -0.000703      0.999900           6       0.000992  0.990483   \n",
       "246508        -0.000078      0.999900           4       0.134937  0.998804   \n",
       "...                 ...           ...         ...            ...       ...   \n",
       "1880441       -0.002734      0.999900           6       0.094258  0.973632   \n",
       "3077800       -0.005859      0.999900           2       0.137914  0.988548   \n",
       "1442434        0.000547      0.999900           1       0.042664  0.998441   \n",
       "2867682        0.003750      0.999900           2       0.159742  0.981502   \n",
       "1956767       -0.000234      0.999900          30       0.138906  0.990376   \n",
       "\n",
       "          cosPAV0        ct      ctMC  dcaBachPV  dcaBachV0  ...      ptMC   \n",
       "1929378  0.999914  3.738420       NaN   1.369219   0.714375  ...       NaN  \\\n",
       "5075524  0.999852  4.630147  4.486795   2.212578   0.069453  ...  3.393957   \n",
       "5493436  0.999918  7.789341  7.832053   2.540000   0.099219  ...  3.556470   \n",
       "3321103  0.999358  2.988015       NaN   1.706562   0.128984  ...       NaN   \n",
       "246508   0.999829  2.626427       NaN   0.853281   0.238125  ...       NaN   \n",
       "...           ...       ...       ...        ...        ...  ...       ...   \n",
       "1880441  0.996437  1.448341       NaN   0.109141   0.039688  ...       NaN   \n",
       "3077800  0.999934  2.959875       NaN   0.297656   0.297656  ...       NaN   \n",
       "1442434  0.993251  2.538233       NaN   0.922734   0.436563  ...       NaN   \n",
       "2867682  0.999799  2.075080       NaN   0.466328   0.297656  ...       NaN   \n",
       "1956767  0.986317  2.971528       NaN   0.267891   0.694531  ...       NaN   \n",
       "\n",
       "            radius   radiusV0  tpcClBach  tpcClV0Pi  tpcClV0Pr  tpcNsigmaBach   \n",
       "1929378   6.647656  25.400000         76         92        137      -1.210938  \\\n",
       "5075524  11.707812  25.400000        155        134        147       2.187500   \n",
       "5493436  20.637500  25.400000        124        107        148       1.054688   \n",
       "3321103   4.663281  12.005469        117         98        129      -1.328125   \n",
       "246508    4.365625  20.042187         99        113        108      -0.859375   \n",
       "...            ...        ...        ...        ...        ...            ...   \n",
       "1880441   2.480469   8.830469        119        124        133       0.000000   \n",
       "3077800   6.647656  25.400000        123         97        129       0.664062   \n",
       "1442434   4.067969   4.067969        111        109        121       3.515625   \n",
       "2867682   1.587500   6.052344        125         88        141      -3.984375   \n",
       "1956767   3.671094   4.564062        119        114        122       2.421875   \n",
       "\n",
       "         tpcNsigmaV0Pi  tpcNsigmaV0Pr       yMC  \n",
       "1929378       0.390625       2.031250       NaN  \n",
       "5075524       0.898438      -0.585938 -0.172081  \n",
       "5493436       0.234375       1.210938 -0.149334  \n",
       "3321103      -0.781250       0.742188       NaN  \n",
       "246508       -2.265625      -1.132812       NaN  \n",
       "...                ...            ...       ...  \n",
       "1880441      -0.742188       1.289062       NaN  \n",
       "3077800      -0.468750       1.367188       NaN  \n",
       "1442434       0.703125       1.328125       NaN  \n",
       "2867682       1.914062      -0.859375       NaN  \n",
       "1956767      -0.937500      -3.945312       NaN  \n",
       "\n",
       "[447153 rows x 36 columns]"
      ]
     },
     "execution_count": 38,
     "metadata": {},
     "output_type": "execute_result"
    }
   ],
   "source": [
    "train_test_data[0]"
   ]
  },
  {
   "cell_type": "code",
   "execution_count": 39,
   "id": "de3b7ad9",
   "metadata": {},
   "outputs": [
    {
     "data": {
      "text/html": [
       "<div>\n",
       "<style scoped>\n",
       "    .dataframe tbody tr th:only-of-type {\n",
       "        vertical-align: middle;\n",
       "    }\n",
       "\n",
       "    .dataframe tbody tr th {\n",
       "        vertical-align: top;\n",
       "    }\n",
       "\n",
       "    .dataframe thead th {\n",
       "        text-align: right;\n",
       "    }\n",
       "</style>\n",
       "<table border=\"1\" class=\"dataframe\">\n",
       "  <thead>\n",
       "    <tr style=\"text-align: right;\">\n",
       "      <th></th>\n",
       "      <th>V0invMassDelta</th>\n",
       "      <th>bachBarCosPA</th>\n",
       "      <th>centrality</th>\n",
       "      <th>competingMass</th>\n",
       "      <th>cosPA</th>\n",
       "      <th>cosPAV0</th>\n",
       "      <th>ct</th>\n",
       "      <th>ctMC</th>\n",
       "      <th>dcaBachPV</th>\n",
       "      <th>dcaBachV0</th>\n",
       "      <th>...</th>\n",
       "      <th>ptMC</th>\n",
       "      <th>radius</th>\n",
       "      <th>radiusV0</th>\n",
       "      <th>tpcClBach</th>\n",
       "      <th>tpcClV0Pi</th>\n",
       "      <th>tpcClV0Pr</th>\n",
       "      <th>tpcNsigmaBach</th>\n",
       "      <th>tpcNsigmaV0Pi</th>\n",
       "      <th>tpcNsigmaV0Pr</th>\n",
       "      <th>yMC</th>\n",
       "    </tr>\n",
       "  </thead>\n",
       "  <tbody>\n",
       "    <tr>\n",
       "      <th>1799719</th>\n",
       "      <td>-0.003203</td>\n",
       "      <td>0.9999</td>\n",
       "      <td>2</td>\n",
       "      <td>0.149820</td>\n",
       "      <td>0.965892</td>\n",
       "      <td>0.977679</td>\n",
       "      <td>3.110209</td>\n",
       "      <td>NaN</td>\n",
       "      <td>0.208359</td>\n",
       "      <td>0.873125</td>\n",
       "      <td>...</td>\n",
       "      <td>NaN</td>\n",
       "      <td>3.472656</td>\n",
       "      <td>7.242969</td>\n",
       "      <td>87</td>\n",
       "      <td>102</td>\n",
       "      <td>109</td>\n",
       "      <td>-3.437500</td>\n",
       "      <td>-0.195312</td>\n",
       "      <td>0.078125</td>\n",
       "      <td>NaN</td>\n",
       "    </tr>\n",
       "    <tr>\n",
       "      <th>3053795</th>\n",
       "      <td>0.000781</td>\n",
       "      <td>0.9999</td>\n",
       "      <td>2</td>\n",
       "      <td>0.031750</td>\n",
       "      <td>0.999426</td>\n",
       "      <td>0.999993</td>\n",
       "      <td>2.747077</td>\n",
       "      <td>NaN</td>\n",
       "      <td>0.843359</td>\n",
       "      <td>0.148828</td>\n",
       "      <td>...</td>\n",
       "      <td>NaN</td>\n",
       "      <td>5.060156</td>\n",
       "      <td>25.400000</td>\n",
       "      <td>130</td>\n",
       "      <td>120</td>\n",
       "      <td>133</td>\n",
       "      <td>-1.328125</td>\n",
       "      <td>-1.250000</td>\n",
       "      <td>0.195312</td>\n",
       "      <td>NaN</td>\n",
       "    </tr>\n",
       "    <tr>\n",
       "      <th>1977095</th>\n",
       "      <td>0.003906</td>\n",
       "      <td>0.9999</td>\n",
       "      <td>0</td>\n",
       "      <td>0.139898</td>\n",
       "      <td>0.993410</td>\n",
       "      <td>0.999987</td>\n",
       "      <td>9.090889</td>\n",
       "      <td>NaN</td>\n",
       "      <td>1.478359</td>\n",
       "      <td>0.178594</td>\n",
       "      <td>...</td>\n",
       "      <td>NaN</td>\n",
       "      <td>9.921875</td>\n",
       "      <td>25.400000</td>\n",
       "      <td>128</td>\n",
       "      <td>108</td>\n",
       "      <td>101</td>\n",
       "      <td>-1.250000</td>\n",
       "      <td>1.914062</td>\n",
       "      <td>-3.281250</td>\n",
       "      <td>NaN</td>\n",
       "    </tr>\n",
       "    <tr>\n",
       "      <th>1024777</th>\n",
       "      <td>0.000781</td>\n",
       "      <td>0.9999</td>\n",
       "      <td>70</td>\n",
       "      <td>0.050602</td>\n",
       "      <td>0.999975</td>\n",
       "      <td>0.999648</td>\n",
       "      <td>1.135273</td>\n",
       "      <td>1.137981</td>\n",
       "      <td>0.635000</td>\n",
       "      <td>0.009922</td>\n",
       "      <td>...</td>\n",
       "      <td>3.668468</td>\n",
       "      <td>2.877344</td>\n",
       "      <td>4.960938</td>\n",
       "      <td>90</td>\n",
       "      <td>104</td>\n",
       "      <td>120</td>\n",
       "      <td>0.234375</td>\n",
       "      <td>0.546875</td>\n",
       "      <td>-1.679688</td>\n",
       "      <td>-0.203676</td>\n",
       "    </tr>\n",
       "    <tr>\n",
       "      <th>266801</th>\n",
       "      <td>-0.002969</td>\n",
       "      <td>0.9999</td>\n",
       "      <td>0</td>\n",
       "      <td>0.134937</td>\n",
       "      <td>0.972616</td>\n",
       "      <td>0.993925</td>\n",
       "      <td>5.464730</td>\n",
       "      <td>NaN</td>\n",
       "      <td>2.540000</td>\n",
       "      <td>0.069453</td>\n",
       "      <td>...</td>\n",
       "      <td>NaN</td>\n",
       "      <td>6.052344</td>\n",
       "      <td>8.731250</td>\n",
       "      <td>139</td>\n",
       "      <td>81</td>\n",
       "      <td>74</td>\n",
       "      <td>-0.781250</td>\n",
       "      <td>-2.812500</td>\n",
       "      <td>-3.281250</td>\n",
       "      <td>NaN</td>\n",
       "    </tr>\n",
       "    <tr>\n",
       "      <th>...</th>\n",
       "      <td>...</td>\n",
       "      <td>...</td>\n",
       "      <td>...</td>\n",
       "      <td>...</td>\n",
       "      <td>...</td>\n",
       "      <td>...</td>\n",
       "      <td>...</td>\n",
       "      <td>...</td>\n",
       "      <td>...</td>\n",
       "      <td>...</td>\n",
       "      <td>...</td>\n",
       "      <td>...</td>\n",
       "      <td>...</td>\n",
       "      <td>...</td>\n",
       "      <td>...</td>\n",
       "      <td>...</td>\n",
       "      <td>...</td>\n",
       "      <td>...</td>\n",
       "      <td>...</td>\n",
       "      <td>...</td>\n",
       "      <td>...</td>\n",
       "    </tr>\n",
       "    <tr>\n",
       "      <th>595800</th>\n",
       "      <td>-0.000078</td>\n",
       "      <td>0.9999</td>\n",
       "      <td>69</td>\n",
       "      <td>0.098227</td>\n",
       "      <td>0.999928</td>\n",
       "      <td>0.999209</td>\n",
       "      <td>18.529768</td>\n",
       "      <td>18.008652</td>\n",
       "      <td>2.540000</td>\n",
       "      <td>0.238125</td>\n",
       "      <td>...</td>\n",
       "      <td>2.145027</td>\n",
       "      <td>25.400000</td>\n",
       "      <td>25.400000</td>\n",
       "      <td>137</td>\n",
       "      <td>145</td>\n",
       "      <td>154</td>\n",
       "      <td>-1.250000</td>\n",
       "      <td>-2.343750</td>\n",
       "      <td>-0.273438</td>\n",
       "      <td>-0.143984</td>\n",
       "    </tr>\n",
       "    <tr>\n",
       "      <th>694637</th>\n",
       "      <td>0.002109</td>\n",
       "      <td>0.9999</td>\n",
       "      <td>2</td>\n",
       "      <td>0.058539</td>\n",
       "      <td>0.986127</td>\n",
       "      <td>0.981631</td>\n",
       "      <td>1.875662</td>\n",
       "      <td>NaN</td>\n",
       "      <td>0.357187</td>\n",
       "      <td>0.009922</td>\n",
       "      <td>...</td>\n",
       "      <td>NaN</td>\n",
       "      <td>2.282031</td>\n",
       "      <td>3.373437</td>\n",
       "      <td>89</td>\n",
       "      <td>94</td>\n",
       "      <td>115</td>\n",
       "      <td>-2.929688</td>\n",
       "      <td>-3.242188</td>\n",
       "      <td>-0.703125</td>\n",
       "      <td>NaN</td>\n",
       "    </tr>\n",
       "    <tr>\n",
       "      <th>559479</th>\n",
       "      <td>-0.000859</td>\n",
       "      <td>0.9999</td>\n",
       "      <td>7</td>\n",
       "      <td>0.106164</td>\n",
       "      <td>0.998087</td>\n",
       "      <td>0.999930</td>\n",
       "      <td>4.192759</td>\n",
       "      <td>NaN</td>\n",
       "      <td>0.674687</td>\n",
       "      <td>0.208359</td>\n",
       "      <td>...</td>\n",
       "      <td>NaN</td>\n",
       "      <td>6.846094</td>\n",
       "      <td>25.400000</td>\n",
       "      <td>106</td>\n",
       "      <td>100</td>\n",
       "      <td>113</td>\n",
       "      <td>-1.484375</td>\n",
       "      <td>1.835938</td>\n",
       "      <td>0.820312</td>\n",
       "      <td>NaN</td>\n",
       "    </tr>\n",
       "    <tr>\n",
       "      <th>1244845</th>\n",
       "      <td>-0.000156</td>\n",
       "      <td>0.9999</td>\n",
       "      <td>13</td>\n",
       "      <td>0.102195</td>\n",
       "      <td>0.966179</td>\n",
       "      <td>0.995824</td>\n",
       "      <td>2.072536</td>\n",
       "      <td>NaN</td>\n",
       "      <td>0.148828</td>\n",
       "      <td>0.178594</td>\n",
       "      <td>...</td>\n",
       "      <td>NaN</td>\n",
       "      <td>3.274219</td>\n",
       "      <td>12.799219</td>\n",
       "      <td>131</td>\n",
       "      <td>131</td>\n",
       "      <td>88</td>\n",
       "      <td>-3.828125</td>\n",
       "      <td>0.390625</td>\n",
       "      <td>-1.718750</td>\n",
       "      <td>NaN</td>\n",
       "    </tr>\n",
       "    <tr>\n",
       "      <th>1186625</th>\n",
       "      <td>0.000000</td>\n",
       "      <td>0.9999</td>\n",
       "      <td>44</td>\n",
       "      <td>0.083344</td>\n",
       "      <td>0.999976</td>\n",
       "      <td>0.999445</td>\n",
       "      <td>13.412905</td>\n",
       "      <td>13.491577</td>\n",
       "      <td>2.540000</td>\n",
       "      <td>0.089297</td>\n",
       "      <td>...</td>\n",
       "      <td>3.862265</td>\n",
       "      <td>25.400000</td>\n",
       "      <td>25.400000</td>\n",
       "      <td>130</td>\n",
       "      <td>151</td>\n",
       "      <td>149</td>\n",
       "      <td>-0.859375</td>\n",
       "      <td>0.585938</td>\n",
       "      <td>-0.429688</td>\n",
       "      <td>-0.258804</td>\n",
       "    </tr>\n",
       "  </tbody>\n",
       "</table>\n",
       "<p>447154 rows × 36 columns</p>\n",
       "</div>"
      ],
      "text/plain": [
       "         V0invMassDelta  bachBarCosPA  centrality  competingMass     cosPA   \n",
       "1799719       -0.003203        0.9999           2       0.149820  0.965892  \\\n",
       "3053795        0.000781        0.9999           2       0.031750  0.999426   \n",
       "1977095        0.003906        0.9999           0       0.139898  0.993410   \n",
       "1024777        0.000781        0.9999          70       0.050602  0.999975   \n",
       "266801        -0.002969        0.9999           0       0.134937  0.972616   \n",
       "...                 ...           ...         ...            ...       ...   \n",
       "595800        -0.000078        0.9999          69       0.098227  0.999928   \n",
       "694637         0.002109        0.9999           2       0.058539  0.986127   \n",
       "559479        -0.000859        0.9999           7       0.106164  0.998087   \n",
       "1244845       -0.000156        0.9999          13       0.102195  0.966179   \n",
       "1186625        0.000000        0.9999          44       0.083344  0.999976   \n",
       "\n",
       "          cosPAV0         ct       ctMC  dcaBachPV  dcaBachV0  ...      ptMC   \n",
       "1799719  0.977679   3.110209        NaN   0.208359   0.873125  ...       NaN  \\\n",
       "3053795  0.999993   2.747077        NaN   0.843359   0.148828  ...       NaN   \n",
       "1977095  0.999987   9.090889        NaN   1.478359   0.178594  ...       NaN   \n",
       "1024777  0.999648   1.135273   1.137981   0.635000   0.009922  ...  3.668468   \n",
       "266801   0.993925   5.464730        NaN   2.540000   0.069453  ...       NaN   \n",
       "...           ...        ...        ...        ...        ...  ...       ...   \n",
       "595800   0.999209  18.529768  18.008652   2.540000   0.238125  ...  2.145027   \n",
       "694637   0.981631   1.875662        NaN   0.357187   0.009922  ...       NaN   \n",
       "559479   0.999930   4.192759        NaN   0.674687   0.208359  ...       NaN   \n",
       "1244845  0.995824   2.072536        NaN   0.148828   0.178594  ...       NaN   \n",
       "1186625  0.999445  13.412905  13.491577   2.540000   0.089297  ...  3.862265   \n",
       "\n",
       "            radius   radiusV0  tpcClBach  tpcClV0Pi  tpcClV0Pr  tpcNsigmaBach   \n",
       "1799719   3.472656   7.242969         87        102        109      -3.437500  \\\n",
       "3053795   5.060156  25.400000        130        120        133      -1.328125   \n",
       "1977095   9.921875  25.400000        128        108        101      -1.250000   \n",
       "1024777   2.877344   4.960938         90        104        120       0.234375   \n",
       "266801    6.052344   8.731250        139         81         74      -0.781250   \n",
       "...            ...        ...        ...        ...        ...            ...   \n",
       "595800   25.400000  25.400000        137        145        154      -1.250000   \n",
       "694637    2.282031   3.373437         89         94        115      -2.929688   \n",
       "559479    6.846094  25.400000        106        100        113      -1.484375   \n",
       "1244845   3.274219  12.799219        131        131         88      -3.828125   \n",
       "1186625  25.400000  25.400000        130        151        149      -0.859375   \n",
       "\n",
       "         tpcNsigmaV0Pi  tpcNsigmaV0Pr       yMC  \n",
       "1799719      -0.195312       0.078125       NaN  \n",
       "3053795      -1.250000       0.195312       NaN  \n",
       "1977095       1.914062      -3.281250       NaN  \n",
       "1024777       0.546875      -1.679688 -0.203676  \n",
       "266801       -2.812500      -3.281250       NaN  \n",
       "...                ...            ...       ...  \n",
       "595800       -2.343750      -0.273438 -0.143984  \n",
       "694637       -3.242188      -0.703125       NaN  \n",
       "559479        1.835938       0.820312       NaN  \n",
       "1244845       0.390625      -1.718750       NaN  \n",
       "1186625       0.585938      -0.429688 -0.258804  \n",
       "\n",
       "[447154 rows x 36 columns]"
      ]
     },
     "execution_count": 39,
     "metadata": {},
     "output_type": "execute_result"
    }
   ],
   "source": [
    "train_test_data[2]"
   ]
  },
  {
   "cell_type": "code",
   "execution_count": 40,
   "id": "96b0f709",
   "metadata": {},
   "outputs": [],
   "source": [
    "### let's print the train_test_data variable and see what we have"
   ]
  },
  {
   "cell_type": "markdown",
   "id": "d381a426",
   "metadata": {},
   "source": [
    "## Training and testing a BDT"
   ]
  },
  {
   "cell_type": "markdown",
   "id": "19dce8e0",
   "metadata": {},
   "source": [
    "We will use the BDT of XGBoost (https://github.com/dmlc/xgboost): boosting is implemented with a gradient descent method. It features few hyperparameters that can be tuned to improve the performance and reduce the overfitting, even if the algorithm works smoothly out of the box.\n",
    "\n"
   ]
  },
  {
   "cell_type": "code",
   "execution_count": 41,
   "id": "3c35b321",
   "metadata": {},
   "outputs": [
    {
     "name": "stderr",
     "output_type": "stream",
     "text": [
      "\n",
      "KeyboardInterrupt\n",
      "\n"
     ]
    }
   ],
   "source": [
    "import xgboost as xgb"
   ]
  },
  {
   "cell_type": "code",
   "execution_count": null,
   "id": "8dde06f5",
   "metadata": {},
   "outputs": [],
   "source": [
    "n_estimators=276\n",
    "max_depth=6\n",
    "learning_rate=0.03\n",
    "\n",
    "xgb_model = xgb.XGBClassifier(n_estimators=n_estimators, max_depth=max_depth, learning_rate=learning_rate)"
   ]
  },
  {
   "cell_type": "code",
   "execution_count": null,
   "id": "66d9ddfc",
   "metadata": {},
   "outputs": [],
   "source": [
    "### wrap the classifier into the ModelHandler"
   ]
  },
  {
   "cell_type": "code",
   "execution_count": null,
   "id": "3906a9b1",
   "metadata": {},
   "outputs": [],
   "source": [
    "model_hdl = ModelHandler(xgb_model, training_cols)"
   ]
  },
  {
   "cell_type": "markdown",
   "id": "17a50a4b",
   "metadata": {},
   "source": [
    "## Optimize the model on the provided data"
   ]
  },
  {
   "cell_type": "raw",
   "id": "2c8692dc",
   "metadata": {},
   "source": [
    "from optuna.samplers import RandomSampler\n",
    "\n",
    "N_JOBS=8\n",
    "\n",
    "hyper_pars_ranges = {'n_estimators': (20, 300), 'max_depth': (2, 6), 'learning_rate': (0.01, 0.1)}\n",
    "rnd_study = model_hdl.optimize_params_optuna(train_test_data, hyper_pars_ranges, cross_val_scoring='roc_auc',\n",
    "                                             timeout=60, n_jobs=N_JOBS, n_trials=20, direction='maximize',\n",
    "                                             optuna_sampler=RandomSampler())"
   ]
  },
  {
   "cell_type": "markdown",
   "id": "8cf4183d",
   "metadata": {},
   "source": [
    "## train_test_data[0] -> data for training\n",
    "## train_test_data[2] -> data for testing\n"
   ]
  },
  {
   "cell_type": "code",
   "execution_count": null,
   "id": "fd9820af",
   "metadata": {
    "scrolled": true
   },
   "outputs": [],
   "source": [
    "model_hdl.fit(train_test_data[0], train_test_data[1])"
   ]
  },
  {
   "cell_type": "code",
   "execution_count": null,
   "id": "2e90725a",
   "metadata": {
    "scrolled": false
   },
   "outputs": [],
   "source": []
  },
  {
   "cell_type": "markdown",
   "id": "80debc44",
   "metadata": {},
   "source": [
    "Training Done! Let's apply the model to the test sample"
   ]
  },
  {
   "cell_type": "code",
   "execution_count": null,
   "id": "47a1608c",
   "metadata": {},
   "outputs": [],
   "source": [
    "score_test = model_hdl.predict(train_test_data[2])"
   ]
  },
  {
   "cell_type": "code",
   "execution_count": null,
   "id": "1ff0d942",
   "metadata": {},
   "outputs": [],
   "source": [
    "#### plot the score distribution\n",
    "plt.hist(score_test, bins=100, label='full sample', alpha=0.5, density=True);"
   ]
  },
  {
   "cell_type": "markdown",
   "id": "34eeed48",
   "metadata": {},
   "source": [
    "Two peaks clearly distinguishable: will they be corresponding to the signal and the background? Let's plot the two distribution separately"
   ]
  },
  {
   "cell_type": "code",
   "execution_count": null,
   "id": "546d591c",
   "metadata": {},
   "outputs": [],
   "source": [
    "plt.hist(score_test[train_test_data[3]==0], bins=100, label='background', alpha=0.5, density=True);\n",
    "plt.hist(score_test[train_test_data[3]==1], bins=100, label='signal', alpha=0.5, density=True);\n",
    "plt.legend();\n"
   ]
  },
  {
   "cell_type": "markdown",
   "id": "30c7d43f",
   "metadata": {},
   "source": [
    "Well separated peaks on the test set! This is what we want.\n",
    "Now we can evaluate the performance on the test set: we can use the ROC curve, which is built by plotting\n",
    "the true positive rate (TPR) against the false negative rate (FPR) as a function of the\n",
    "score threshold, where TPR and FPR are defined as:\n",
    "\n",
    "\n",
    "$TPR=\\frac{\\sum TP}{\\sum TP + \\sum FN} \\hspace{2cm} FPR=\\frac{\\sum FP}{\\sum FP + \\sum TN} $\n",
    "\n",
    "and in our case represent the signal selection and the background rejection\n",
    "efficiencies respectively as a function of the score. The most common way employed to evaluate the performance of a BDT is to\n",
    "compute the area under the ROC curve, called AUC: a perfect classifier will have\n",
    "a ROC AUC equal to 1, whereas a random classifier will have a ROC AUC equal\n",
    "to 0.5.\n",
    "\n"
   ]
  },
  {
   "cell_type": "code",
   "execution_count": null,
   "id": "4942d0f7",
   "metadata": {},
   "outputs": [],
   "source": [
    "plot_utils.plot_roc(train_test_data[3], score_test);"
   ]
  },
  {
   "cell_type": "markdown",
   "id": "8a685817",
   "metadata": {},
   "source": [
    "Repeat this exercise with the training set: what do you get?"
   ]
  },
  {
   "cell_type": "code",
   "execution_count": null,
   "id": "00d8eed6",
   "metadata": {},
   "outputs": [],
   "source": [
    "score_train = model_hdl.predict(train_test_data[0])"
   ]
  },
  {
   "cell_type": "code",
   "execution_count": null,
   "id": "418ea085",
   "metadata": {},
   "outputs": [],
   "source": [
    "plot_utils.plot_roc(train_test_data[1], score_train);"
   ]
  },
  {
   "cell_type": "markdown",
   "id": "a9fd8516",
   "metadata": {},
   "source": [
    "Training ROC-AUC is slightly higher than the test set one. This is a systematic behaviour due to the small presence of overfitting. We can see it also by plotting the BDT output for the training and test set distributions"
   ]
  },
  {
   "cell_type": "code",
   "execution_count": null,
   "id": "5c99bd1f",
   "metadata": {},
   "outputs": [],
   "source": [
    "plot_utils.plot_output_train_test(model_hdl, train_test_data, density=True, bins=100, logscale=True);"
   ]
  },
  {
   "cell_type": "markdown",
   "id": "87a3ee67",
   "metadata": {},
   "source": [
    "Now, before applying the BDT to data we can have a look at which variables are relevant for the training. We will use the feature importance implemented in the SHAP library (https://github.com/slundberg/shap). In the context of machine learning, the Shapley value is used to evaluate the contribution of each feature to the model output, and it is calculated by averaging the marginal contributions of each feature to the model output. The marginal contribution of a feature is the difference in the model output when the feature is present or absent. The variables that are\n",
    "more important for the model are those that have a higher marginal contribution, and Shapley values consequently.\n",
    "\n",
    "In hipe4ml the function plot_feat_imp implements the algorithm: try to use it!"
   ]
  },
  {
   "cell_type": "code",
   "execution_count": null,
   "id": "2fdfad72",
   "metadata": {},
   "outputs": [],
   "source": [
    "plot_utils.plot_feature_imp(train_test_data[2], train_test_data[3], model_hdl) "
   ]
  },
  {
   "cell_type": "markdown",
   "id": "7581cb21",
   "metadata": {},
   "source": [
    "Two plots given: how to interpret them?"
   ]
  },
  {
   "cell_type": "markdown",
   "id": "f0835461",
   "metadata": {},
   "source": [
    "**Bonus** : repeat the training using a different model and compare its performance with the XGB BDT. All the sklearn and keras (NN) models can be used to feed the ModelHandler"
   ]
  },
  {
   "cell_type": "markdown",
   "id": "0b1a1bf2",
   "metadata": {},
   "source": [
    "### Applying the BDT"
   ]
  },
  {
   "cell_type": "markdown",
   "id": "9c4b23b8",
   "metadata": {},
   "source": [
    "Now that the model is tested we can use it to classify the real data sample. Try to evaluate the invariant mass as a function of the score distribution"
   ]
  },
  {
   "cell_type": "code",
   "execution_count": null,
   "id": "0f4cb507",
   "metadata": {},
   "outputs": [],
   "source": [
    "hdl_data.apply_model_handler(model_hdl)"
   ]
  },
  {
   "cell_type": "code",
   "execution_count": null,
   "id": "de1a2f34",
   "metadata": {},
   "outputs": [],
   "source": [
    "plt.hist(hdl_data.apply_preselections(\"model_output>-3\", inplace=False)[\"mass\"], bins=100);"
   ]
  },
  {
   "cell_type": "code",
   "execution_count": null,
   "id": "cf202f3d",
   "metadata": {},
   "outputs": [],
   "source": [
    "plt.hist(hdl_data.apply_preselections(\"model_output>0.5\", inplace=False)[\"mass\"], bins=100);"
   ]
  },
  {
   "cell_type": "code",
   "execution_count": null,
   "id": "40482d62",
   "metadata": {},
   "outputs": [],
   "source": [
    "plt.hist(hdl_data.apply_preselections(\"model_output>4\", inplace=False)[\"mass\"], bins=100);"
   ]
  },
  {
   "cell_type": "code",
   "execution_count": null,
   "id": "c8d0d998",
   "metadata": {},
   "outputs": [],
   "source": [
    "### very nice! But how to decide which threshold is the best one? Many methods can be used, but it is important to evaluate the selection efficiency\n",
    "### as a function of the score. Excercise: write a function for computing the BDT efficiency vs Score. Would you compute it on the training or the test sets?"
   ]
  },
  {
   "cell_type": "code",
   "execution_count": null,
   "id": "89fd7004",
   "metadata": {},
   "outputs": [],
   "source": [
    "### hipe4ml has a function to do that! \n",
    "eff_array, score_array = analysis_utils.bdt_efficiency_array(train_test_data[3], score_test, 1000)"
   ]
  },
  {
   "cell_type": "code",
   "execution_count": null,
   "id": "dfb2b291",
   "metadata": {},
   "outputs": [],
   "source": [
    "plot_utils.plot_bdt_eff(score_array, eff_array);"
   ]
  },
  {
   "cell_type": "code",
   "execution_count": null,
   "id": "8f551036",
   "metadata": {},
   "outputs": [],
   "source": [
    "## Now we can try to fit the invariant mass spectrum"
   ]
  },
  {
   "cell_type": "code",
   "execution_count": null,
   "id": "65b778aa",
   "metadata": {},
   "outputs": [],
   "source": [
    "from scipy.optimize import curve_fit\n",
    "from scipy import integrate\n",
    "\n",
    "def fit_invmass(df, fit_range=[1.660, 1.685]):\n",
    "    \n",
    "    # histogram of the data\n",
    "    counts, bins = np.histogram(df, bins=40, range=fit_range)\n",
    "    \n",
    "    # define functions for fitting    \n",
    "    def gaus_function(x, N, mu, sigma):\n",
    "        return N * np.exp(-(x-mu)**2/(2*sigma**2))\n",
    "    \n",
    "    def pol2_function(x, a, b):\n",
    "        return (a + x*b)\n",
    "    \n",
    "    def fit_function(x, a, b, N, mu, sigma):\n",
    "        return pol2_function(x, a, b) + gaus_function(x, N, mu, sigma)\n",
    "    \n",
    "    # x axis ranges for plots\n",
    "    x_point = 0.5 * (bins[1:] + bins[:-1])\n",
    "    r = np.arange(fit_range[0], fit_range[1], 0.00001)\n",
    "    \n",
    "    # fit the invariant mass distribution with fit_function() pol2+gauss\n",
    "    popt, pcov = curve_fit(fit_function, x_point, counts, p0 = [100, -1, 100, 1.673, 0.001])\n",
    "    \n",
    "    # plot data\n",
    "    plt.errorbar(x_point, counts, yerr=np.sqrt(counts), fmt='.', ecolor='k', color='k', elinewidth=1., label='Data')\n",
    "    \n",
    "    # plot pol2 and gauss obtained in the fit separately\n",
    "    plt.plot(r, gaus_function(r, N=popt[2], mu=popt[3], sigma=popt[4]), label='Gaus', color='red')\n",
    "    plt.plot(r, pol2_function(r, a=popt[0], b=popt[1]), label='pol2', color='green', linestyle='--')\n",
    "\n",
    "    # plot the global fit\n",
    "    plt.plot(r, fit_function(r, *popt), label='pol2+Gaus', color='blue')\n",
    "    \n",
    "    # compute significance of the signal\n",
    "    signal = integrate.quad(gaus_function, fit_range[0], fit_range[1], args=(popt[2], popt[3], popt[4]))[0] / 0.00225\n",
    "    background = integrate.quad(pol2_function, fit_range[0], fit_range[1], args=(popt[0], popt[1]))[0] / 0.00225\n",
    "    print(f'Signal counts: {signal:.0f}')\n",
    "    print(f'Background counts: {background:.0f}')     \n",
    "    significance = signal / np.sqrt(signal + background)\n",
    "\n",
    "    # Add some axis labels\n",
    "    plt.legend()\n",
    "    plt.xlabel('$M_{\\Lambda\\pi}$ $(\\mathrm{GeV/}\\it{c}^2)$')\n",
    "    plt.ylabel('Counts')\n",
    "    plt.show()\n"
   ]
  },
  {
   "cell_type": "code",
   "execution_count": null,
   "id": "74367694",
   "metadata": {},
   "outputs": [],
   "source": [
    "fit_invmass(hdl_data.apply_preselections(\"model_output>4\", inplace=False)[\"mass\"], fit_range=[1.660, 1.685])"
   ]
  },
  {
   "cell_type": "code",
   "execution_count": null,
   "id": "ec466f52",
   "metadata": {},
   "outputs": [],
   "source": [
    "### you can also use some packages for implementing ROOT like plots in python\n",
    "import mplhep as hep\n",
    "hep.style.use(hep.style.ROOT)"
   ]
  },
  {
   "cell_type": "code",
   "execution_count": null,
   "id": "ea2b948d",
   "metadata": {},
   "outputs": [],
   "source": [
    "fit_invmass(hdl_data.apply_preselections(\"model_output>0.5\", inplace=False)[\"mass\"], fit_range=[1.660, 1.685])"
   ]
  },
  {
   "cell_type": "code",
   "execution_count": null,
   "id": "594a8faa",
   "metadata": {},
   "outputs": [],
   "source": [
    "#### reset matplotlib style if needed\n",
    "plt.style.use('default')"
   ]
  },
  {
   "cell_type": "markdown",
   "id": "fe227835",
   "metadata": {},
   "source": [
    "For a dedicated fitting routine you can have a look at:\n",
    "- https://github.com/flarefly/flarefly"
   ]
  },
  {
   "cell_type": "markdown",
   "id": "b8e59c6e",
   "metadata": {},
   "source": [
    "### **Bonus**:  Repeat the excercise with the Xi"
   ]
  },
  {
   "cell_type": "markdown",
   "id": "9697ff26",
   "metadata": {},
   "source": [
    "### **Bonus**: optimize your BDT"
   ]
  },
  {
   "cell_type": "markdown",
   "id": "179c291d",
   "metadata": {},
   "source": [
    "The XGBoost Classifier has many hyperparameters that control the complexity of\n",
    "the model. Few of them are listed here, for a complete description see : https://xgboost.readthedocs.io/en/stable/parameter.html\n",
    "\n",
    "- n_estimators: Number of trees in the BDT\n",
    "- max_depth: Maximum depth of a tree\n",
    "- eta: learning rate of the algorithm. It controls the step size of the gradient descent algorithm\n",
    "\n",
    "\n",
    "The optimisation of the hyperparameters is a key step to obtain the best performance from the algorithm and prevent overfitting. In hipe4ml the Optuna package is employed for the optimisation through the method ModelHandler.optimize_params_optuna. (https://github.com/optuna/optuna)\n",
    "\n",
    "The Optuna package provides a wide choice of algorithms for the hyperparameter optimization. The default one is the TPESampler, which is known to provide robust performance in few iterations. The difference between other approaches, like grid search or random search, and the TPESampler optimisation is that the latter takes into account past evaluations when choosing the hyperparameter set to evaluate next.\n",
    "\n",
    "A set of hyperparameters should be tested on different samples to avoid overfitting problems. Since the number of events is limited, an approach called cross validation is used. It has been proved that the cross validation removes the dependence of the model on the data sample.\n",
    "\n",
    "In the cross validation procedure, the original sample is divided in n parts called folds (in this case 5 folds are used). For each set of hyperparameters, n-1 folds are used for the optimisation and the remaining one as test. This operation is repeated after permuting the folds used for optimisation and for testing and the final result is the mean value of all the permutations.\n",
    "\n",
    "The ModelHandler automatically updates the hyperparameters after their optimisation."
   ]
  },
  {
   "cell_type": "code",
   "execution_count": null,
   "id": "f5f5fe9d",
   "metadata": {},
   "outputs": [],
   "source": [
    "### Excercise: try to optimize your hyperparams with optuna and compare the performance! Be aware: the optimisation is CPU expensive and take some time"
   ]
  },
  {
   "cell_type": "code",
   "execution_count": null,
   "id": "fca50fb1",
   "metadata": {},
   "outputs": [],
   "source": [
    "from optuna.samplers import RandomSampler\n",
    "\n",
    "\n",
    "N_JOBS=8\n",
    "\n",
    "hyper_pars_ranges = {'n_estimators': (20, 300), 'max_depth': (2, 6), 'learning_rate': (0.01, 0.1)}\n",
    "rnd_study = model_hdl.optimize_params_optuna(train_test_data, hyper_pars_ranges, cross_val_scoring='roc_auc',\n",
    "                                             timeout=60, n_jobs=N_JOBS, n_trials=20, direction='maximize',\n",
    "                                             optuna_sampler=RandomSampler())"
   ]
  },
  {
   "cell_type": "code",
   "execution_count": null,
   "id": "8858d133",
   "metadata": {},
   "outputs": [],
   "source": [
    "rnd_time = time.time() - start\n",
    "trials_rnd = rnd_study.trials\n",
    "trials_array_rnd = np.array([t.values[0] for t in trials_rnd])"
   ]
  }
 ],
 "metadata": {
  "kernelspec": {
   "display_name": "Python 3",
   "language": "python",
   "name": "python3"
  },
  "language_info": {
   "codemirror_mode": {
    "name": "ipython",
    "version": 3
   },
   "file_extension": ".py",
   "mimetype": "text/x-python",
   "name": "python",
   "nbconvert_exporter": "python",
   "pygments_lexer": "ipython3",
   "version": "3.9.12"
  }
 },
 "nbformat": 4,
 "nbformat_minor": 5
}
